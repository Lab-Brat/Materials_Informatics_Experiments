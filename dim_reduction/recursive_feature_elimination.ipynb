{
 "metadata": {
  "language_info": {
   "codemirror_mode": {
    "name": "ipython",
    "version": 3
   },
   "file_extension": ".py",
   "mimetype": "text/x-python",
   "name": "python",
   "nbconvert_exporter": "python",
   "pygments_lexer": "ipython3",
   "version": "3.8.3-final"
  },
  "orig_nbformat": 2,
  "kernelspec": {
   "name": "python3",
   "display_name": "Python 3",
   "language": "python"
  }
 },
 "nbformat": 4,
 "nbformat_minor": 2,
 "cells": [
  {
   "cell_type": "code",
   "execution_count": 1,
   "metadata": {},
   "outputs": [],
   "source": [
    "import warnings\n",
    "from sklearn.datasets import make_regression\n",
    "from sklearn.feature_selection import RFECV\n",
    "from sklearn import datasets, linear_model"
   ]
  },
  {
   "cell_type": "code",
   "execution_count": 2,
   "metadata": {},
   "outputs": [],
   "source": [
    "warnings.filterwarnings(action=\"ignore\",module=\"scipy\",message=\"^internal gelsd\")\n",
    "features,target=make_regression(n_samples=10000,n_features=100,n_informative=2,random_state=1)\n",
    "\n",
    "ols=linear_model.LinearRegression()"
   ]
  },
  {
   "cell_type": "code",
   "execution_count": 3,
   "metadata": {},
   "outputs": [
    {
     "output_type": "execute_result",
     "data": {
      "text/plain": [
       "array([[ 0.00850799, -0.91760831,  0.7031277 ],\n",
       "       [-1.07500204,  2.18090991,  2.56148527],\n",
       "       [ 1.37940721,  0.76401668, -1.77039484],\n",
       "       ...,\n",
       "       [-0.80331656,  0.37309491, -1.60648007],\n",
       "       [ 0.39508844,  0.71261539, -1.34564911],\n",
       "       [-0.55383035,  1.2727042 ,  0.82880112]])"
      ]
     },
     "metadata": {},
     "execution_count": 3
    }
   ],
   "source": [
    "rfecv = RFECV(estimator=ols,step=1,scoring=\"neg_mean_squared_error\")\n",
    "rfecv.fit(features,target)\n",
    "rfecv.transform(features)"
   ]
  },
  {
   "cell_type": "code",
   "execution_count": null,
   "metadata": {},
   "outputs": [],
   "source": []
  }
 ]
}