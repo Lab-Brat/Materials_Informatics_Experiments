{
 "metadata": {
  "language_info": {
   "codemirror_mode": {
    "name": "ipython",
    "version": 3
   },
   "file_extension": ".py",
   "mimetype": "text/x-python",
   "name": "python",
   "nbconvert_exporter": "python",
   "pygments_lexer": "ipython3",
   "version": "3.8.3-final"
  },
  "orig_nbformat": 2,
  "kernelspec": {
   "name": "python3",
   "display_name": "Python 3",
   "language": "python"
  }
 },
 "nbformat": 4,
 "nbformat_minor": 2,
 "cells": [
  {
   "cell_type": "code",
   "execution_count": 1,
   "metadata": {},
   "outputs": [],
   "source": [
    "import numpy as np\n",
    "import pandas as pd"
   ]
  },
  {
   "cell_type": "code",
   "execution_count": 2,
   "metadata": {},
   "outputs": [
    {
     "output_type": "execute_result",
     "data": {
      "text/plain": [
       "((437, 16), (437,))"
      ]
     },
     "metadata": {},
     "execution_count": 2
    }
   ],
   "source": [
    "# read date from csv file\n",
    "data = pd.read_csv('fatigue_data.csv', index_col='Sl. No.')\n",
    "\n",
    "# set X as columns C, Ni, Cr and Mo (No.16-19)\n",
    "Xf = data.drop(data.columns[16:20], axis=1) \n",
    "# set y as 'Fatigue' column (No.17)\n",
    "yf = data['Fatigue']\n",
    "\n",
    "Xf.shape, yf.shape"
   ]
  },
  {
   "cell_type": "code",
   "execution_count": null,
   "metadata": {},
   "outputs": [],
   "source": []
  },
  {
   "cell_type": "code",
   "execution_count": 3,
   "metadata": {},
   "outputs": [
    {
     "output_type": "execute_result",
     "data": {
      "text/plain": [
       "((320, 36), (320,))"
      ]
     },
     "metadata": {},
     "execution_count": 3
    }
   ],
   "source": [
    "# read date from xlsx file\n",
    "data = pd.read_excel('kappa.xlsx')\n",
    "\n",
    "Xk = data.drop(data.columns[0:3], axis=1).drop(data.columns[-1], axis=1)\n",
    "yk = data[data.columns[-1]]\n",
    "\n",
    "Xk.shape, yk.shape"
   ]
  },
  {
   "cell_type": "code",
   "execution_count": null,
   "metadata": {},
   "outputs": [],
   "source": []
  },
  {
   "cell_type": "code",
   "execution_count": 5,
   "metadata": {},
   "outputs": [],
   "source": [
    "from sklearn.feature_selection import VarianceThreshold\n",
    "from sklearn.preprocessing import StandardScaler"
   ]
  },
  {
   "cell_type": "code",
   "execution_count": 22,
   "metadata": {},
   "outputs": [
    {
     "output_type": "execute_result",
     "data": {
      "text/plain": [
       "array([[885.,  30.,   0., ...,  30.,  30.,   0.],\n",
       "       [885.,  30.,   0., ...,  30.,  30.,   0.],\n",
       "       [885.,  30.,   0., ...,  30.,  30.,   0.],\n",
       "       ...,\n",
       "       [930.,  30.,   0., ...,  60., 200., 120.],\n",
       "       [930.,  30.,   0., ...,  60., 200., 120.],\n",
       "       [930.,  30.,   0., ...,  60., 200., 120.]])"
      ]
     },
     "metadata": {},
     "execution_count": 22
    }
   ],
   "source": [
    "# Variance Threshold\n",
    "thresholder = VarianceThreshold(threshold=100)\n",
    "features_high_variance = thresholder.fit_transform(Xf)\n",
    "\n",
    "features_high_variance"
   ]
  },
  {
   "cell_type": "code",
   "execution_count": 23,
   "metadata": {},
   "outputs": [
    {
     "output_type": "execute_result",
     "data": {
      "text/plain": [
       "array([6.85500526e+02, 7.82410122e+04, 1.05105017e+02, 6.13474229e+01,\n",
       "       7.91977756e+04, 1.60730141e+04, 7.11945768e+04, 2.45928321e+02,\n",
       "       3.76245359e+02, 2.68678309e+04, 4.60233860e+02, 6.50114102e+01,\n",
       "       9.26471103e-03, 7.25902728e-01, 1.69165923e-01, 7.74801250e-03])"
      ]
     },
     "metadata": {},
     "execution_count": 23
    }
   ],
   "source": [
    "thresholder.fit(Xf).variances_"
   ]
  },
  {
   "cell_type": "code",
   "execution_count": null,
   "metadata": {},
   "outputs": [],
   "source": []
  },
  {
   "cell_type": "code",
   "execution_count": 28,
   "metadata": {},
   "outputs": [
    {
     "output_type": "execute_result",
     "data": {
      "text/plain": [
       "array([1., 1., 1., 1., 1., 1., 1., 1., 1., 1., 1., 1., 1., 1., 1., 1.])"
      ]
     },
     "metadata": {},
     "execution_count": 28
    }
   ],
   "source": [
    "# Feature scaling\n",
    "scaler = StandardScaler()\n",
    "Xf_std = scaler.fit_transform(Xf)\n",
    "\n",
    "selector = VarianceThreshold()\n",
    "\n",
    "# output 1 means that feature noramlization is scuccessful\n",
    "selector.fit(Xf_std).variances_"
   ]
  },
  {
   "cell_type": "code",
   "execution_count": null,
   "metadata": {},
   "outputs": [],
   "source": []
  }
 ]
}