{
 "metadata": {
  "language_info": {
   "codemirror_mode": {
    "name": "ipython",
    "version": 3
   },
   "file_extension": ".py",
   "mimetype": "text/x-python",
   "name": "python",
   "nbconvert_exporter": "python",
   "pygments_lexer": "ipython3",
   "version": "3.9.0-final"
  },
  "orig_nbformat": 2,
  "kernelspec": {
   "name": "Python 3.9.0 64-bit",
   "display_name": "Python 3.9.0 64-bit",
   "metadata": {
    "interpreter": {
     "hash": "a30187288978be1f8e6bd7c2dc03f581ee6232ae2ab099e8954595d92fcb090e"
    }
   }
  }
 },
 "nbformat": 4,
 "nbformat_minor": 2,
 "cells": [
  {
   "cell_type": "code",
   "execution_count": 1,
   "metadata": {},
   "outputs": [],
   "source": [
    "import math\n",
    "\n",
    "import numpy as np\n",
    "import pandas as pd\n",
    "import matplotlib.pyplot as plt\n",
    "\n",
    "from sklearn import linear_model\n",
    "from sklearn.model_selection import cross_val_predict, train_test_split\n",
    "from sklearn.metrics import mean_absolute_error, r2_score, mean_squared_error\n",
    "from sklearn.model_selection import cross_val_score"
   ]
  },
  {
   "cell_type": "code",
   "execution_count": null,
   "metadata": {},
   "outputs": [],
   "source": []
  },
  {
   "cell_type": "code",
   "execution_count": 2,
   "metadata": {},
   "outputs": [],
   "source": [
    "def cross_val_alpha(X, X_test, X_train, y_test, y_train, reg_type='lasso' ,plot_graph=True):\n",
    "    # cross validation\n",
    "    l_min = 0.001\n",
    "    l_max = 0.8\n",
    "    l_num = 30\n",
    "    lambdas = np.linspace(l_min,l_max, l_num)\n",
    "    \n",
    "    train_r_squared = np.zeros(l_num)\n",
    "    test_r_squared = np.zeros(l_num)\n",
    "\n",
    "    pred_num = X.shape[1]\n",
    "    coeff_a = np.zeros((l_num, pred_num))\n",
    "\n",
    "    for ind, i in enumerate(lambdas):    \n",
    "        if reg_type == 'lasso':\n",
    "            reg = linear_model.Lasso(alpha = i)\n",
    "            reg.fit(X_train, y_train)\n",
    "            results = cross_val_score(reg, X, y, cv=5, scoring=\"r2\")\n",
    "            train_r_squared[ind] = reg.score(X_train, y_train)\n",
    "            test_r_squared[ind] = reg.score(X_test, y_test)\n",
    "        elif reg_type == 'ridge':\n",
    "            reg = linear_model.Ridge(alpha = i)\n",
    "            reg.fit(X_train, y_train)\n",
    "            results = cross_val_score(reg, X, y, cv=5, scoring=\"r2\")\n",
    "            train_r_squared[ind] = reg.score(X_train, y_train)\n",
    "            test_r_squared[ind] = reg.score(X_test, y_test)\n",
    "        elif reg_type == 'elasticnet':\n",
    "            reg = linear_model.ElasticNet(alpha = i)\n",
    "            reg.fit(X_train, y_train)\n",
    "            results = cross_val_score(reg, X, y, cv=5, scoring=\"r2\")\n",
    "            train_r_squared[ind] = reg.score(X_train, y_train)\n",
    "            test_r_squared[ind] = reg.score(X_test, y_test)\n",
    "\n",
    "    # #optional plot\n",
    "    if plot_graph == True:\n",
    "\n",
    "        plt.figure(figsize=(10, 5))\n",
    "        plt.plot(train_r_squared, 'bo-', label=r'$R^2$ Training set', color=\"darkblue\", alpha=0.6, linewidth=3)\n",
    "        plt.plot(test_r_squared, 'bo-', label=r'$R^2$ Test set', color=\"darkred\", alpha=0.6, linewidth=3)\n",
    "        plt.xlabel('Lamda value'); plt.ylabel(r'$R^2$')\n",
    "        plt.xlim(0, 19)\n",
    "        plt.title(r'Evaluate 5-fold cv with different lamdas')\n",
    "        plt.legend(loc='best')\n",
    "        plt.grid()\n",
    "\n",
    "    df_lam = pd.DataFrame(test_r_squared*100, columns=['R_squared'])\n",
    "    df_lam['lambda'] = (lambdas)\n",
    "\n",
    "    # returns the index of the row where column has maximum value.\n",
    "    return df_lam.loc[df_lam['R_squared'].idxmax()]"
   ]
  },
  {
   "cell_type": "code",
   "execution_count": 3,
   "metadata": {},
   "outputs": [],
   "source": [
    "# output metrics, and plot predicted vs original results\n",
    "def metrics_plot(y1, y2, plot_graph=True):\n",
    "    #calculate metrics\n",
    "    mae = mean_absolute_error(y1, y2)\n",
    "    mse = mean_squared_error(y1, y2)\n",
    "    rmse = math.sqrt(mse)\n",
    "    r2 = r2_score(y1, y2)\n",
    "    \n",
    "    #output metrics\n",
    "    print('MSE:  {}'.format(round(mse, 3)))\n",
    "    print('RMSE: {}'.format(round(rmse, 3)))\n",
    "    print('MAE:  {}'.format(round(mae, 3)))\n",
    "    print('R2:   {}'.format(round(r2, 3)))\n",
    "\n",
    "    #plot graph\n",
    "    if plot_graph == True:\n",
    "        plt.figure(figsize=(8,8))\n",
    "        plt.plot(y1, y2, 'co')\n",
    "        plt.plot([100,1500], [100,1500], color='black', linewidth=2.0, linestyle='-')\n",
    "    \n",
    "        plt.xlabel('Measured')\n",
    "        plt.ylabel('Predicted')\n",
    "        plt.grid(True)\n",
    "        plt.xlim((100,1500))\n",
    "        plt.ylim((100,1500))\n",
    "        \n",
    "        my_x_ticks = np.arange(100,1600,200)\n",
    "        my_y_ticks = np.arange(100, 1600, 200)\n",
    "        plt.xticks(my_x_ticks)\n",
    "        plt.yticks(my_y_ticks)\n",
    "        plt.axis('scaled')\n",
    "    \n",
    "        plt.show()\n",
    "\n",
    "    return mse, rmse, mae, r2"
   ]
  },
  {
   "cell_type": "code",
   "execution_count": null,
   "metadata": {},
   "outputs": [],
   "source": []
  },
  {
   "cell_type": "code",
   "execution_count": 4,
   "metadata": {},
   "outputs": [
    {
     "output_type": "execute_result",
     "data": {
      "text/plain": [
       "          NT  THT  THt2  THQCr  CT  Ct3    DT  Dt4  QmT  TT  Tt5  TCr     C  \\\n",
       "Sl. No.                                                                       \n",
       "1        885   30     0      0  30  0.0  30.0  0.0   30  30    0  0.0  0.26   \n",
       "2        885   30     0      0  30  0.0  30.0  0.0   30  30    0  0.0  0.25   \n",
       "3        885   30     0      0  30  0.0  30.0  0.0   30  30    0  0.0  0.26   \n",
       "4        885   30     0      0  30  0.0  30.0  0.0   30  30    0  0.0  0.26   \n",
       "5        885   30     0      0  30  0.0  30.0  0.0   30  30    0  0.0  0.22   \n",
       "\n",
       "           Ni    Cr   Mo  Fatigue  \n",
       "Sl. No.                            \n",
       "1        0.01  0.02  0.0      232  \n",
       "2        0.08  0.12  0.0      235  \n",
       "3        0.02  0.03  0.0      235  \n",
       "4        0.01  0.02  0.0      241  \n",
       "5        0.01  0.02  0.0      225  "
      ],
      "text/html": "<div>\n<style scoped>\n    .dataframe tbody tr th:only-of-type {\n        vertical-align: middle;\n    }\n\n    .dataframe tbody tr th {\n        vertical-align: top;\n    }\n\n    .dataframe thead th {\n        text-align: right;\n    }\n</style>\n<table border=\"1\" class=\"dataframe\">\n  <thead>\n    <tr style=\"text-align: right;\">\n      <th></th>\n      <th>NT</th>\n      <th>THT</th>\n      <th>THt2</th>\n      <th>THQCr</th>\n      <th>CT</th>\n      <th>Ct3</th>\n      <th>DT</th>\n      <th>Dt4</th>\n      <th>QmT</th>\n      <th>TT</th>\n      <th>Tt5</th>\n      <th>TCr</th>\n      <th>C</th>\n      <th>Ni</th>\n      <th>Cr</th>\n      <th>Mo</th>\n      <th>Fatigue</th>\n    </tr>\n    <tr>\n      <th>Sl. No.</th>\n      <th></th>\n      <th></th>\n      <th></th>\n      <th></th>\n      <th></th>\n      <th></th>\n      <th></th>\n      <th></th>\n      <th></th>\n      <th></th>\n      <th></th>\n      <th></th>\n      <th></th>\n      <th></th>\n      <th></th>\n      <th></th>\n      <th></th>\n    </tr>\n  </thead>\n  <tbody>\n    <tr>\n      <th>1</th>\n      <td>885</td>\n      <td>30</td>\n      <td>0</td>\n      <td>0</td>\n      <td>30</td>\n      <td>0.0</td>\n      <td>30.0</td>\n      <td>0.0</td>\n      <td>30</td>\n      <td>30</td>\n      <td>0</td>\n      <td>0.0</td>\n      <td>0.26</td>\n      <td>0.01</td>\n      <td>0.02</td>\n      <td>0.0</td>\n      <td>232</td>\n    </tr>\n    <tr>\n      <th>2</th>\n      <td>885</td>\n      <td>30</td>\n      <td>0</td>\n      <td>0</td>\n      <td>30</td>\n      <td>0.0</td>\n      <td>30.0</td>\n      <td>0.0</td>\n      <td>30</td>\n      <td>30</td>\n      <td>0</td>\n      <td>0.0</td>\n      <td>0.25</td>\n      <td>0.08</td>\n      <td>0.12</td>\n      <td>0.0</td>\n      <td>235</td>\n    </tr>\n    <tr>\n      <th>3</th>\n      <td>885</td>\n      <td>30</td>\n      <td>0</td>\n      <td>0</td>\n      <td>30</td>\n      <td>0.0</td>\n      <td>30.0</td>\n      <td>0.0</td>\n      <td>30</td>\n      <td>30</td>\n      <td>0</td>\n      <td>0.0</td>\n      <td>0.26</td>\n      <td>0.02</td>\n      <td>0.03</td>\n      <td>0.0</td>\n      <td>235</td>\n    </tr>\n    <tr>\n      <th>4</th>\n      <td>885</td>\n      <td>30</td>\n      <td>0</td>\n      <td>0</td>\n      <td>30</td>\n      <td>0.0</td>\n      <td>30.0</td>\n      <td>0.0</td>\n      <td>30</td>\n      <td>30</td>\n      <td>0</td>\n      <td>0.0</td>\n      <td>0.26</td>\n      <td>0.01</td>\n      <td>0.02</td>\n      <td>0.0</td>\n      <td>241</td>\n    </tr>\n    <tr>\n      <th>5</th>\n      <td>885</td>\n      <td>30</td>\n      <td>0</td>\n      <td>0</td>\n      <td>30</td>\n      <td>0.0</td>\n      <td>30.0</td>\n      <td>0.0</td>\n      <td>30</td>\n      <td>30</td>\n      <td>0</td>\n      <td>0.0</td>\n      <td>0.22</td>\n      <td>0.01</td>\n      <td>0.02</td>\n      <td>0.0</td>\n      <td>225</td>\n    </tr>\n  </tbody>\n</table>\n</div>"
     },
     "metadata": {},
     "execution_count": 4
    }
   ],
   "source": [
    "# read date from csv file\n",
    "data = pd.read_csv('fatigue_data.csv', index_col='Sl. No.')\n",
    "\n",
    "# delete extra columns\n",
    "xx = data.drop(data.columns[17:20], axis=1)\n",
    "xx.head()"
   ]
  },
  {
   "cell_type": "code",
   "execution_count": 5,
   "metadata": {},
   "outputs": [
    {
     "output_type": "execute_result",
     "data": {
      "text/plain": [
       "((437, 16), (437,))"
      ]
     },
     "metadata": {},
     "execution_count": 5
    }
   ],
   "source": [
    "# set X as columns C, Ni, Cr and Mo (No.16-19)\n",
    "X = data.drop(data.columns[16:20], axis=1) \n",
    "# set y as 'Fatigue' column (No.17)\n",
    "y = data['Fatigue']\n",
    "\n",
    "X.shape, y.shape"
   ]
  },
  {
   "cell_type": "code",
   "execution_count": null,
   "metadata": {},
   "outputs": [],
   "source": []
  },
  {
   "cell_type": "code",
   "execution_count": 7,
   "metadata": {},
   "outputs": [
    {
     "output_type": "execute_result",
     "data": {
      "text/plain": [
       "(0.11120689655172414, 0.08365517241379311, 0.001)"
      ]
     },
     "metadata": {},
     "execution_count": 7
    }
   ],
   "source": [
    "# splitting data into training set and testing set\n",
    "X_train, X_test, y_train, y_test = train_test_split(X, y, random_state=42, test_size=0.2)\n",
    "\n",
    "# calculate learning rates for lasso, ridge and elasticnet regressions\n",
    "alpha_las = cross_val_alpha(X, X_test, X_train, y_test, y_train, plot_graph=False)\n",
    "alpha_rig = cross_val_alpha(X, X_test, X_train, y_test, y_train, reg_type='ridge', plot_graph=False)\n",
    "alpha_el = cross_val_alpha(X, X_test, X_train, y_test, y_train, reg_type='elasticnet', plot_graph=False)\n",
    "\n",
    "alpha_las[1], alpha_rig[1], alpha_el[1]"
   ]
  },
  {
   "cell_type": "code",
   "execution_count": null,
   "metadata": {},
   "outputs": [],
   "source": []
  },
  {
   "cell_type": "code",
   "execution_count": 8,
   "metadata": {},
   "outputs": [],
   "source": [
    "# simple linear regression model\n",
    "lr = linear_model.LinearRegression().fit(X_train, y_train)\n",
    "y_pred = lr.predict(X_test)\n",
    "\n",
    "# lasso regression model\n",
    "lr_las = linear_model.Lasso(0.1112).fit(X_train, y_train)\n",
    "y_pred_las = lr_las.predict(X_test)\n",
    "\n",
    "# ridge regression model\n",
    "lr_rig = linear_model.Ridge(0.0837).fit(X_train, y_train)\n",
    "y_pred_rig = lr_rig.predict(X_test)\n",
    "\n",
    "# elasticnet regression model\n",
    "lr_el = linear_model.Ridge(0.001).fit(X_train, y_train)\n",
    "y_pred_el = lr_el.predict(X_test)"
   ]
  },
  {
   "cell_type": "code",
   "execution_count": null,
   "metadata": {},
   "outputs": [],
   "source": []
  },
  {
   "cell_type": "code",
   "execution_count": 11,
   "metadata": {},
   "outputs": [
    {
     "output_type": "stream",
     "name": "stdout",
     "text": [
      "MSE:  1243.081\nRMSE: 35.257\nMAE:  24.817\nR2:   0.97\n"
     ]
    }
   ],
   "source": [
    "mse_lr, rmse_lr, mae_lr, r2_lr = metrics_plot(y_test, y_pred, plot_graph=False)"
   ]
  },
  {
   "cell_type": "code",
   "execution_count": 12,
   "metadata": {},
   "outputs": [
    {
     "output_type": "stream",
     "name": "stdout",
     "text": [
      "MSE:  1288.933\nRMSE: 35.902\nMAE:  25.218\nR2:   0.969\n"
     ]
    }
   ],
   "source": [
    "mse_las, rmse_las, mae_las, r2_las = metrics_plot(y_test, y_pred_las, plot_graph=False)"
   ]
  },
  {
   "cell_type": "code",
   "execution_count": 13,
   "metadata": {},
   "outputs": [
    {
     "output_type": "stream",
     "name": "stdout",
     "text": [
      "MSE:  1218.391\nRMSE: 34.905\nMAE:  24.428\nR2:   0.971\n"
     ]
    }
   ],
   "source": [
    "mse_rig, rmse_rig, mae_rig, r2_rig = metrics_plot(y_test, y_pred_rig, plot_graph=False)"
   ]
  },
  {
   "cell_type": "code",
   "execution_count": 14,
   "metadata": {},
   "outputs": [
    {
     "output_type": "stream",
     "name": "stdout",
     "text": [
      "MSE:  1242.184\nRMSE: 35.245\nMAE:  24.806\nR2:   0.97\n"
     ]
    }
   ],
   "source": [
    "mse_el, rmse_el, mae_el, r2_el = metrics_plot(y_test, y_pred_el, plot_graph=False)"
   ]
  }
 ]
}