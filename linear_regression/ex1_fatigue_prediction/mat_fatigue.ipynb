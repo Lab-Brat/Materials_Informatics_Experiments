{
 "metadata": {
  "language_info": {
   "codemirror_mode": {
    "name": "ipython",
    "version": 3
   },
   "file_extension": ".py",
   "mimetype": "text/x-python",
   "name": "python",
   "nbconvert_exporter": "python",
   "pygments_lexer": "ipython3",
   "version": "3.8.6-final"
  },
  "orig_nbformat": 2,
  "kernelspec": {
   "name": "Python 3.8.6 64-bit",
   "display_name": "Python 3.8.6 64-bit",
   "metadata": {
    "interpreter": {
     "hash": "06389d2601312ad42d345986d536958551643a1448f9b4b2cf64e6539f194870"
    }
   }
  }
 },
 "nbformat": 4,
 "nbformat_minor": 2,
 "cells": [
  {
   "cell_type": "code",
   "execution_count": 1,
   "metadata": {},
   "outputs": [],
   "source": [
    "import numpy as np\n",
    "import pandas as pd\n",
    "import math"
   ]
  },
  {
   "cell_type": "code",
   "execution_count": null,
   "metadata": {},
   "outputs": [],
   "source": []
  },
  {
   "cell_type": "code",
   "execution_count": 3,
   "metadata": {},
   "outputs": [
    {
     "output_type": "execute_result",
     "data": {
      "text/plain": [
       "          NT  THT  THt2  THQCr  CT  Ct3    DT  Dt4  QmT  TT  Tt5  TCr     C  \\\n",
       "Sl. No.                                                                       \n",
       "1        885   30     0      0  30  0.0  30.0  0.0   30  30    0  0.0  0.26   \n",
       "2        885   30     0      0  30  0.0  30.0  0.0   30  30    0  0.0  0.25   \n",
       "3        885   30     0      0  30  0.0  30.0  0.0   30  30    0  0.0  0.26   \n",
       "4        885   30     0      0  30  0.0  30.0  0.0   30  30    0  0.0  0.26   \n",
       "5        885   30     0      0  30  0.0  30.0  0.0   30  30    0  0.0  0.22   \n",
       "\n",
       "           Ni    Cr   Mo  Fatigue  \n",
       "Sl. No.                            \n",
       "1        0.01  0.02  0.0      232  \n",
       "2        0.08  0.12  0.0      235  \n",
       "3        0.02  0.03  0.0      235  \n",
       "4        0.01  0.02  0.0      241  \n",
       "5        0.01  0.02  0.0      225  "
      ],
      "text/html": "<div>\n<style scoped>\n    .dataframe tbody tr th:only-of-type {\n        vertical-align: middle;\n    }\n\n    .dataframe tbody tr th {\n        vertical-align: top;\n    }\n\n    .dataframe thead th {\n        text-align: right;\n    }\n</style>\n<table border=\"1\" class=\"dataframe\">\n  <thead>\n    <tr style=\"text-align: right;\">\n      <th></th>\n      <th>NT</th>\n      <th>THT</th>\n      <th>THt2</th>\n      <th>THQCr</th>\n      <th>CT</th>\n      <th>Ct3</th>\n      <th>DT</th>\n      <th>Dt4</th>\n      <th>QmT</th>\n      <th>TT</th>\n      <th>Tt5</th>\n      <th>TCr</th>\n      <th>C</th>\n      <th>Ni</th>\n      <th>Cr</th>\n      <th>Mo</th>\n      <th>Fatigue</th>\n    </tr>\n    <tr>\n      <th>Sl. No.</th>\n      <th></th>\n      <th></th>\n      <th></th>\n      <th></th>\n      <th></th>\n      <th></th>\n      <th></th>\n      <th></th>\n      <th></th>\n      <th></th>\n      <th></th>\n      <th></th>\n      <th></th>\n      <th></th>\n      <th></th>\n      <th></th>\n      <th></th>\n    </tr>\n  </thead>\n  <tbody>\n    <tr>\n      <th>1</th>\n      <td>885</td>\n      <td>30</td>\n      <td>0</td>\n      <td>0</td>\n      <td>30</td>\n      <td>0.0</td>\n      <td>30.0</td>\n      <td>0.0</td>\n      <td>30</td>\n      <td>30</td>\n      <td>0</td>\n      <td>0.0</td>\n      <td>0.26</td>\n      <td>0.01</td>\n      <td>0.02</td>\n      <td>0.0</td>\n      <td>232</td>\n    </tr>\n    <tr>\n      <th>2</th>\n      <td>885</td>\n      <td>30</td>\n      <td>0</td>\n      <td>0</td>\n      <td>30</td>\n      <td>0.0</td>\n      <td>30.0</td>\n      <td>0.0</td>\n      <td>30</td>\n      <td>30</td>\n      <td>0</td>\n      <td>0.0</td>\n      <td>0.25</td>\n      <td>0.08</td>\n      <td>0.12</td>\n      <td>0.0</td>\n      <td>235</td>\n    </tr>\n    <tr>\n      <th>3</th>\n      <td>885</td>\n      <td>30</td>\n      <td>0</td>\n      <td>0</td>\n      <td>30</td>\n      <td>0.0</td>\n      <td>30.0</td>\n      <td>0.0</td>\n      <td>30</td>\n      <td>30</td>\n      <td>0</td>\n      <td>0.0</td>\n      <td>0.26</td>\n      <td>0.02</td>\n      <td>0.03</td>\n      <td>0.0</td>\n      <td>235</td>\n    </tr>\n    <tr>\n      <th>4</th>\n      <td>885</td>\n      <td>30</td>\n      <td>0</td>\n      <td>0</td>\n      <td>30</td>\n      <td>0.0</td>\n      <td>30.0</td>\n      <td>0.0</td>\n      <td>30</td>\n      <td>30</td>\n      <td>0</td>\n      <td>0.0</td>\n      <td>0.26</td>\n      <td>0.01</td>\n      <td>0.02</td>\n      <td>0.0</td>\n      <td>241</td>\n    </tr>\n    <tr>\n      <th>5</th>\n      <td>885</td>\n      <td>30</td>\n      <td>0</td>\n      <td>0</td>\n      <td>30</td>\n      <td>0.0</td>\n      <td>30.0</td>\n      <td>0.0</td>\n      <td>30</td>\n      <td>30</td>\n      <td>0</td>\n      <td>0.0</td>\n      <td>0.22</td>\n      <td>0.01</td>\n      <td>0.02</td>\n      <td>0.0</td>\n      <td>225</td>\n    </tr>\n  </tbody>\n</table>\n</div>"
     },
     "metadata": {},
     "execution_count": 3
    }
   ],
   "source": [
    "data = pd.read_csv('fatigue_data.csv', index_col='Sl. No.')\n",
    "\n",
    "# delete extra columns\n",
    "xx = data.drop(data.columns[17:20], axis=1)\n",
    "xx.head()"
   ]
  },
  {
   "cell_type": "code",
   "execution_count": null,
   "metadata": {},
   "outputs": [],
   "source": [
    "# set X as columns No.1-16\n",
    "X = data.drop(data.columns[16:20], axis=1) \n",
    "# set y as 'Fatigue' column (No.17)\n",
    "y = data['Fatigue']\n",
    "\n",
    "X.shape, y.shape"
   ]
  },
  {
   "cell_type": "code",
   "execution_count": null,
   "metadata": {},
   "outputs": [],
   "source": []
  },
  {
   "cell_type": "code",
   "execution_count": null,
   "metadata": {},
   "outputs": [],
   "source": [
    "from sklearn import linear_model\n",
    "from sklearn.model_selection import cross_val_predict, train_test_split\n",
    "\n",
    "import matplotlib.pyplot as plt"
   ]
  },
  {
   "cell_type": "code",
   "execution_count": null,
   "metadata": {},
   "outputs": [],
   "source": []
  },
  {
   "cell_type": "code",
   "execution_count": null,
   "metadata": {},
   "outputs": [],
   "source": [
    "# splitting data into training set and testing set\n",
    "X_train, X_test, y_train, y_test = train_test_split(X, y, random_state=42, test_size=0.2)"
   ]
  },
  {
   "cell_type": "code",
   "execution_count": null,
   "metadata": {},
   "outputs": [],
   "source": []
  },
  {
   "cell_type": "code",
   "execution_count": null,
   "metadata": {},
   "outputs": [],
   "source": [
    "from sklearn.metrics import mean_absolute_error, r2_score, mean_squared_error"
   ]
  },
  {
   "cell_type": "code",
   "execution_count": null,
   "metadata": {},
   "outputs": [],
   "source": [
    "lr = linear_model.LinearRegression()\n",
    "lr.fit(X_train, y_train)"
   ]
  },
  {
   "cell_type": "code",
   "execution_count": null,
   "metadata": {},
   "outputs": [],
   "source": [
    "y_pred = lr.predict(X_test)\n",
    "mae = mean_absolute_error(y_test, y_pred)\n",
    "mse = mean_squared_error(y_test, y_pred)\n",
    "rmse = math.sqrt(mse)\n",
    "r2 = r2_score(y_test, y_pred)\n",
    "\n",
    "print('MSE:  {}'.format(round(mse, 3)))\n",
    "print('RMSE: {}'.format(round(rmse, 3)))\n",
    "print('MAE:  {}'.format(round(mae, 3)))\n",
    "print('R2:   {}'.format(round(r2, 3)))"
   ]
  },
  {
   "cell_type": "code",
   "execution_count": null,
   "metadata": {},
   "outputs": [],
   "source": []
  },
  {
   "cell_type": "code",
   "execution_count": null,
   "metadata": {},
   "outputs": [],
   "source": [
    "plt.plot(y_test, y_pred, 'ko')\n",
    "plt.xlabel('Measured')\n",
    "plt.ylabel('Predicted')\n",
    "plt.grid(True)\n",
    "plt.xlim((100,1500))\n",
    "plt.ylim((100,1500))\n",
    "plt.plot([100,1500], [100,1500], color='blue', linewidth=3.0, linestyle='-')\n",
    "my_x_ticks = np.arange(100,1600,200)\n",
    "my_y_ticks = np.arange(100, 1600, 200)\n",
    "plt.xticks(my_x_ticks)\n",
    "plt.yticks(my_y_ticks)\n",
    "plt.axis('scaled')\n",
    "plt.show()"
   ]
  },
  {
   "cell_type": "code",
   "execution_count": null,
   "metadata": {},
   "outputs": [],
   "source": []
  },
  {
   "cell_type": "code",
   "execution_count": null,
   "metadata": {},
   "outputs": [],
   "source": [
    "print(lr.coef_)"
   ]
  },
  {
   "cell_type": "code",
   "execution_count": null,
   "metadata": {},
   "outputs": [],
   "source": [
    "#lasso - jiang wei"
   ]
  }
 ]
}