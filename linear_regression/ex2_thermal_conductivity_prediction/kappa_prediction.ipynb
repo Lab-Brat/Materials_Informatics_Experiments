{
 "metadata": {
  "language_info": {
   "codemirror_mode": {
    "name": "ipython",
    "version": 3
   },
   "file_extension": ".py",
   "mimetype": "text/x-python",
   "name": "python",
   "nbconvert_exporter": "python",
   "pygments_lexer": "ipython3",
   "version": "3.8.3-final"
  },
  "orig_nbformat": 2,
  "kernelspec": {
   "name": "python3",
   "display_name": "Python 3.8.3 64-bit (conda)",
   "metadata": {
    "interpreter": {
     "hash": "96eb50e1d44aed467dc8f759cb08c32fbfa9babcf79c554e2d0e5feb04653a10"
    }
   }
  }
 },
 "nbformat": 4,
 "nbformat_minor": 2,
 "cells": [
  {
   "cell_type": "code",
   "execution_count": 1,
   "metadata": {},
   "outputs": [],
   "source": [
    "import numpy as np \n",
    "import pandas as pd "
   ]
  },
  {
   "cell_type": "code",
   "execution_count": 16,
   "metadata": {},
   "outputs": [
    {
     "output_type": "stream",
     "name": "stdout",
     "text": [
      "(320, 36) (320,)\n"
     ]
    },
    {
     "output_type": "execute_result",
     "data": {
      "text/plain": [
       "   nelements  nsites  nbranch  spacegroup     a (A)     b (A)     c (A)  \\\n",
       "0          3       3        9         187  3.852776  3.852776  3.924707   \n",
       "1          3       6       18         215  4.061599  4.061599  4.061599   \n",
       "2          3       6       18         215  3.877115  3.877115  3.877115   \n",
       "3          3       3        9         187  3.823046  3.823046  3.896440   \n",
       "4          2       2        6         216  3.665472  3.665472  3.665472   \n",
       "\n",
       "   alpha (°)  beta  (°)  gama  (°)  ...   ave_col  max_mass  min_mass  \\\n",
       "0         90         90        120  ...   6.66667   88.9059    1.0079   \n",
       "1         90         90         90  ...  11.00000   79.9040    1.0079   \n",
       "2         90         90         90  ...  11.00000   35.4527    1.0079   \n",
       "3         90         90        120  ...   6.66667  164.9303    1.0079   \n",
       "4         60         60         60  ...   9.00000   78.9600    9.0122   \n",
       "\n",
       "   ave_mass  max_chem  min_chem  ave_chem  max_elec  min_elec  ave_elec  \n",
       "0  56.29127       5.0     0.700   2.70000      2.55      1.22   1.99000  \n",
       "1  31.63953       5.0     2.640   3.54667      3.04      2.20   2.73333  \n",
       "2  16.82243       5.0     2.700   3.56667      3.16      2.20   2.80000  \n",
       "3  81.63273       5.0     0.748   2.71600      2.55      1.23   1.99333  \n",
       "4  43.98610       2.4     1.500   1.95000      2.55      1.57   2.06000  \n",
       "\n",
       "[5 rows x 36 columns]"
      ],
      "text/html": "<div>\n<style scoped>\n    .dataframe tbody tr th:only-of-type {\n        vertical-align: middle;\n    }\n\n    .dataframe tbody tr th {\n        vertical-align: top;\n    }\n\n    .dataframe thead th {\n        text-align: right;\n    }\n</style>\n<table border=\"1\" class=\"dataframe\">\n  <thead>\n    <tr style=\"text-align: right;\">\n      <th></th>\n      <th>nelements</th>\n      <th>nsites</th>\n      <th>nbranch</th>\n      <th>spacegroup</th>\n      <th>a (A)</th>\n      <th>b (A)</th>\n      <th>c (A)</th>\n      <th>alpha (°)</th>\n      <th>beta  (°)</th>\n      <th>gama  (°)</th>\n      <th>...</th>\n      <th>ave_col</th>\n      <th>max_mass</th>\n      <th>min_mass</th>\n      <th>ave_mass</th>\n      <th>max_chem</th>\n      <th>min_chem</th>\n      <th>ave_chem</th>\n      <th>max_elec</th>\n      <th>min_elec</th>\n      <th>ave_elec</th>\n    </tr>\n  </thead>\n  <tbody>\n    <tr>\n      <th>0</th>\n      <td>3</td>\n      <td>3</td>\n      <td>9</td>\n      <td>187</td>\n      <td>3.852776</td>\n      <td>3.852776</td>\n      <td>3.924707</td>\n      <td>90</td>\n      <td>90</td>\n      <td>120</td>\n      <td>...</td>\n      <td>6.66667</td>\n      <td>88.9059</td>\n      <td>1.0079</td>\n      <td>56.29127</td>\n      <td>5.0</td>\n      <td>0.700</td>\n      <td>2.70000</td>\n      <td>2.55</td>\n      <td>1.22</td>\n      <td>1.99000</td>\n    </tr>\n    <tr>\n      <th>1</th>\n      <td>3</td>\n      <td>6</td>\n      <td>18</td>\n      <td>215</td>\n      <td>4.061599</td>\n      <td>4.061599</td>\n      <td>4.061599</td>\n      <td>90</td>\n      <td>90</td>\n      <td>90</td>\n      <td>...</td>\n      <td>11.00000</td>\n      <td>79.9040</td>\n      <td>1.0079</td>\n      <td>31.63953</td>\n      <td>5.0</td>\n      <td>2.640</td>\n      <td>3.54667</td>\n      <td>3.04</td>\n      <td>2.20</td>\n      <td>2.73333</td>\n    </tr>\n    <tr>\n      <th>2</th>\n      <td>3</td>\n      <td>6</td>\n      <td>18</td>\n      <td>215</td>\n      <td>3.877115</td>\n      <td>3.877115</td>\n      <td>3.877115</td>\n      <td>90</td>\n      <td>90</td>\n      <td>90</td>\n      <td>...</td>\n      <td>11.00000</td>\n      <td>35.4527</td>\n      <td>1.0079</td>\n      <td>16.82243</td>\n      <td>5.0</td>\n      <td>2.700</td>\n      <td>3.56667</td>\n      <td>3.16</td>\n      <td>2.20</td>\n      <td>2.80000</td>\n    </tr>\n    <tr>\n      <th>3</th>\n      <td>3</td>\n      <td>3</td>\n      <td>9</td>\n      <td>187</td>\n      <td>3.823046</td>\n      <td>3.823046</td>\n      <td>3.896440</td>\n      <td>90</td>\n      <td>90</td>\n      <td>120</td>\n      <td>...</td>\n      <td>6.66667</td>\n      <td>164.9303</td>\n      <td>1.0079</td>\n      <td>81.63273</td>\n      <td>5.0</td>\n      <td>0.748</td>\n      <td>2.71600</td>\n      <td>2.55</td>\n      <td>1.23</td>\n      <td>1.99333</td>\n    </tr>\n    <tr>\n      <th>4</th>\n      <td>2</td>\n      <td>2</td>\n      <td>6</td>\n      <td>216</td>\n      <td>3.665472</td>\n      <td>3.665472</td>\n      <td>3.665472</td>\n      <td>60</td>\n      <td>60</td>\n      <td>60</td>\n      <td>...</td>\n      <td>9.00000</td>\n      <td>78.9600</td>\n      <td>9.0122</td>\n      <td>43.98610</td>\n      <td>2.4</td>\n      <td>1.500</td>\n      <td>1.95000</td>\n      <td>2.55</td>\n      <td>1.57</td>\n      <td>2.06000</td>\n    </tr>\n  </tbody>\n</table>\n<p>5 rows × 36 columns</p>\n</div>"
     },
     "metadata": {},
     "execution_count": 16
    }
   ],
   "source": [
    "# read date from csv file\n",
    "data = pd.read_excel('kappa.xlsx')\n",
    "\n",
    "# delete extra columns\n",
    "X = data.drop(data.columns[0:3], axis=1).drop(data.columns[-1], axis=1)\n",
    "# X = data.drop(data.columns[-1], axis=1)\n",
    "y = data[data.columns[-1]]\n",
    "\n",
    "print(X.shape, y.shape)\n",
    "X.head()"
   ]
  },
  {
   "cell_type": "code",
   "execution_count": null,
   "metadata": {},
   "outputs": [],
   "source": []
  }
 ]
}