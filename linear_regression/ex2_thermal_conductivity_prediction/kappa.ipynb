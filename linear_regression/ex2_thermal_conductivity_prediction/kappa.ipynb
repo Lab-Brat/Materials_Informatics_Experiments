{
 "metadata": {
  "language_info": {
   "codemirror_mode": {
    "name": "ipython",
    "version": 3
   },
   "file_extension": ".py",
   "mimetype": "text/x-python",
   "name": "python",
   "nbconvert_exporter": "python",
   "pygments_lexer": "ipython3",
   "version": "3.8.3-final"
  },
  "orig_nbformat": 2,
  "kernelspec": {
   "name": "python3",
   "display_name": "Python 3"
  }
 },
 "nbformat": 4,
 "nbformat_minor": 2,
 "cells": [
  {
   "cell_type": "code",
   "execution_count": 1,
   "metadata": {},
   "outputs": [],
   "source": [
    "import numpy as np\n",
    "import pandas as pd\n",
    "\n",
    "from sklearn.model_selection import train_test_split\n",
    "from sklearn.linear_model import LinearRegression, Ridge, Lasso, ElasticNet\n",
    "\n",
    "from sklearn.metrics import mean_squared_error, r2_score\n",
    "from sklearn.preprocessing import StandardScaler\n",
    "\n",
    "import matplotlib.pyplot as plt, seaborn as sns"
   ]
  },
  {
   "cell_type": "code",
   "execution_count": 2,
   "metadata": {},
   "outputs": [],
   "source": [
    "def get_scores(model, Xtest, ytest):\n",
    "    y_pred = model.predict(Xtest)\n",
    "    return (y_pred, \n",
    "            np.sqrt(mean_squared_error(ytest, y_pred)), \n",
    "            r2_score(ytest, y_pred),\n",
    "            model.__class__.__name__)"
   ]
  },
  {
   "cell_type": "code",
   "execution_count": 3,
   "metadata": {},
   "outputs": [],
   "source": [
    "def plot_comp(y_test, y_pred):\n",
    "    plt.figure(figsize=(6,6))\n",
    "    plt.plot(y_test*1000, y_pred_lr*1000, 'bo')\n",
    "    plt.plot([-0, 5], [0, 5], color='black', linewidth=2.0, linestyle='-')\n",
    "    plt.xlabel(r'Prediction ($10^{-3} cm^{-1}$)')\n",
    "    plt.ylabel(r'Observation ($10^{-3} cm^{-1}$)')\n",
    "    plt.show()"
   ]
  },
  {
   "cell_type": "code",
   "execution_count": null,
   "metadata": {},
   "outputs": [],
   "source": []
  },
  {
   "cell_type": "code",
   "execution_count": 4,
   "metadata": {},
   "outputs": [],
   "source": [
    "data = pd.read_excel('kappa.xlsx')\n",
    "X = data.drop(data.columns[0:3], axis=1).drop(data.columns[-1], axis=1)\n",
    "y = data[data.columns[-1]]\n",
    "\n",
    "X_train, X_test, y_train, y_test = train_test_split(X, y, test_size=0.1, random_state=2)"
   ]
  },
  {
   "cell_type": "code",
   "execution_count": null,
   "metadata": {},
   "outputs": [],
   "source": []
  },
  {
   "source": [
    "#models \n",
    "#simple linear regression\n",
    "lr = LinearRegression().fit(X_train, y_train)\n",
    "y_pred_lr, rmse_lr, r2_lr, lr_name = get_scores(lr, X_test, y_test)\n",
    "\n",
    "#ridge regression\n",
    "ridge = Ridge(random_state=0).fit(X_train, y_train)\n",
    "y_pred_rg, rmse_rg, r2_rg, rg_name = get_scores(ridge, X_test, y_test)\n",
    "\n",
    "#lasso regression\n",
    "lasso = Lasso(alpha=0.00003,random_state=0).fit(X_train, y_train)\n",
    "y_pred_ls, rmse_ls, r2_ls, ls_name = get_scores(lasso, X_test, y_test)\n",
    "\n",
    "#elasticnet regression\n",
    "en = ElasticNet(alpha=0.000059,random_state=0).fit(X_train, y_train)\n",
    "y_pred_en, rmse_en, r2_en, en_name = get_scores(en, X_test, y_test)\n",
    "\n",
    "\n",
    "print(\"{0} model\\n RMSE = {1: .5f}, R2 = {2: .5f}\\n\".format(lr_name, rmse_lr, r2_lr))\n",
    "print(\"{0} model\\n RMSE = {1: .5f}, R2 = {2: .5f}\\n\".format(rg_name, rmse_rg, r2_rg))\n",
    "print(\"{0} model\\n RMSE = {1: .5f}, R2 = {2: .5f}\\n\".format(ls_name, rmse_ls, r2_ls))\n",
    "print(\"{0} model\\n RMSE = {1: .5f}, R2 = {2: .5f}\\n\".format(en_name, rmse_en, r2_en))\n"
   ],
   "cell_type": "code",
   "metadata": {},
   "execution_count": 5,
   "outputs": [
    {
     "output_type": "stream",
     "name": "stdout",
     "text": [
      "LinearRegression model\n RMSE =  0.00035, R2 =  0.85007\n\nRidge model\n RMSE =  0.00037, R2 =  0.83418\n\nLasso model\n RMSE =  0.00037, R2 =  0.83402\n\nElasticNet model\n RMSE =  0.00037, R2 =  0.83407\n\n"
     ]
    }
   ]
  },
  {
   "cell_type": "code",
   "execution_count": null,
   "metadata": {},
   "outputs": [],
   "source": []
  },
  {
   "cell_type": "code",
   "execution_count": 6,
   "metadata": {},
   "outputs": [
    {
     "output_type": "stream",
     "name": "stdout",
     "text": [
      "LinearRegression model\n RMSE =  0.00050, R2 =  0.68700\n\nRidge model\n RMSE =  0.00044, R2 =  0.76102\n\nLasso model\n RMSE =  0.00041, R2 =  0.78965\n\nElasticNet model\n RMSE =  0.00041, R2 =  0.78938\n\n"
     ]
    }
   ],
   "source": [
    "scaler = StandardScaler()\n",
    "X_train_std = scaler.fit_transform(X_train)\n",
    "X_test_std = scaler.fit_transform(X_test)\n",
    "\n",
    "#models \n",
    "#simple linear regression\n",
    "lr = LinearRegression().fit(X_train_std, y_train)\n",
    "y_pred_lr, rmse_lr, r2_lr, lr_name = get_scores(lr, X_test_std, y_test)\n",
    "\n",
    "#ridge regression\n",
    "ridge = Ridge(random_state=0).fit(X_train_std, y_train)\n",
    "y_pred_rg, rmse_rg, r2_rg, rg_name = get_scores(ridge, X_test_std, y_test)\n",
    "\n",
    "#lasso regression\n",
    "lasso = Lasso(alpha=0.00003,random_state=0).fit(X_train_std, y_train)\n",
    "y_pred_ls, rmse_ls, r2_ls, ls_name = get_scores(lasso, X_test_std, y_test)\n",
    "\n",
    "#elasticnet regression\n",
    "en = ElasticNet(alpha=0.000059,random_state=0).fit(X_train_std, y_train)\n",
    "y_pred_en, rmse_en, r2_en, en_name = get_scores(en, X_test_std, y_test)\n",
    "\n",
    "\n",
    "print(\"{0} model\\n RMSE = {1: .5f}, R2 = {2: .5f}\\n\".format(lr_name, rmse_lr, r2_lr))\n",
    "print(\"{0} model\\n RMSE = {1: .5f}, R2 = {2: .5f}\\n\".format(rg_name, rmse_rg, r2_rg))\n",
    "print(\"{0} model\\n RMSE = {1: .5f}, R2 = {2: .5f}\\n\".format(ls_name, rmse_ls, r2_ls))\n",
    "print(\"{0} model\\n RMSE = {1: .5f}, R2 = {2: .5f}\\n\".format(en_name, rmse_en, r2_en))"
   ]
  },
  {
   "cell_type": "code",
   "execution_count": null,
   "metadata": {},
   "outputs": [],
   "source": []
  },
  {
   "cell_type": "code",
   "execution_count": null,
   "metadata": {},
   "outputs": [],
   "source": []
  },
  {
   "cell_type": "code",
   "execution_count": null,
   "metadata": {},
   "outputs": [],
   "source": [
    "# print('-----------------------------------------')\n",
    "# print ('rmse (unscaled):')\n",
    "\n",
    "# lr = LinearRegression().fit(X_train, y_train)\n",
    "# rmse, lr_name = get_scores(lr, X_test, y_test)\n",
    "# d['lr'] = [rmse]\n",
    "# print (rmse, '(' + lr_name + ')')\n",
    "\n",
    "# ridge = Ridge(random_state=0).fit(X_train, y_train)\n",
    "# rmse, ridge_name = get_scores(ridge, X_test, y_test)\n",
    "# d['ridge'] = [rmse]\n",
    "# print (rmse, '(' + ridge_name + ')')\n",
    "\n",
    "# lasso = Lasso(random_state=0).fit(X_train, y_train)\n",
    "# rmse, lasso_name = get_scores(lasso, X_test, y_test)\n",
    "# d['lasso'] = [rmse]\n",
    "# print (rmse, '(' + lasso_name + ')')\n",
    "\n",
    "# en = ElasticNet(random_state=0).fit(X_train, y_train)\n",
    "# rmse, en_name = get_scores(en, X_test, y_test)\n",
    "# d['en'] = [rmse]\n",
    "# print (rmse, '(' + en_name + ')')\n",
    "\n",
    "# print('-----------------------------------------')"
   ]
  },
  {
   "cell_type": "code",
   "execution_count": null,
   "metadata": {},
   "outputs": [],
   "source": [
    "# scaler = StandardScaler()\n",
    "# X_train_std = scaler.fit_transform(X_train)\n",
    "# X_test_std = scaler.fit_transform(X_test)\n",
    "\n",
    "# print ('rmse scaled:')\n",
    "# lr_std = LinearRegression().fit(X_train_std, y_train)\n",
    "# rmse, lr_std_name = get_scores(lr_std, X_test_std, y_test)\n",
    "# print (rmse, '(' + lr_std_name + ')')\n",
    "\n",
    "# rr_std = Ridge(random_state=0).fit(X_train_std, y_train)\n",
    "# rmse, rr_std_name = get_scores(rr_std, X_test_std, y_test)\n",
    "# print (rmse, '(' + rr_std_name + ')')\n",
    "\n",
    "# lasso_std = Lasso(random_state=0).fit(X_train_std, y_train)\n",
    "# rmse, lasso_std_name = get_scores(lasso_std, X_test_std, y_test)\n",
    "# print (rmse, '(' + lasso_std_name + ')')\n",
    "\n",
    "# en_std = ElasticNet(random_state=0).fit(X_train_std, y_train)\n",
    "# rmse, en_std_name = get_scores(en_std, X_test_std, y_test)\n",
    "# print (rmse, '(' + en_std_name + ')')"
   ]
  }
 ]
}