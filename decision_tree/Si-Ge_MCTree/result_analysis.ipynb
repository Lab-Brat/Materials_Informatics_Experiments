{
 "metadata": {
  "language_info": {
   "codemirror_mode": {
    "name": "ipython",
    "version": 3
   },
   "file_extension": ".py",
   "mimetype": "text/x-python",
   "name": "python",
   "nbconvert_exporter": "python",
   "pygments_lexer": "ipython3",
   "version": "3.6.6-final"
  },
  "orig_nbformat": 2,
  "kernelspec": {
   "name": "python3",
   "display_name": "Python 3.6.6 64-bit",
   "metadata": {
    "interpreter": {
     "hash": "ea1d30b81493ad4e83832c30fd2d1afdd89257e8ee88b0c08169d2ce4111f838"
    }
   }
  }
 },
 "nbformat": 4,
 "nbformat_minor": 2,
 "cells": [
  {
   "cell_type": "code",
   "execution_count": null,
   "metadata": {},
   "outputs": [],
   "source": [
    "import numpy as np\n",
    "import matplotlib.pyplot as plt"
   ]
  },
  {
   "cell_type": "code",
   "execution_count": null,
   "metadata": {},
   "outputs": [],
   "source": []
  },
  {
   "cell_type": "code",
   "execution_count": null,
   "metadata": {},
   "outputs": [],
   "source": [
    "def plot_data(X, y):\n",
    "    plt.figure(figsize=(8,6))\n",
    "\n",
    "    for i in y:\n",
    "        plt.plot(X, y[i])\n",
    "\n",
    "    plt.title(\"Thermal Conductance Of Different Optimal Structures\")\n",
    "    plt.ylabel(\"Thermal Conductance\")\n",
    "    plt.xlabel(\"Calculated Structures\")\n",
    "    plt.legend()\n",
    "\n",
    "    plt.show()"
   ]
  },
  {
   "cell_type": "code",
   "execution_count": null,
   "metadata": {},
   "outputs": [],
   "source": [
    "def plot_all(L_all, X):\n",
    "    plt.figure(figsize=(12,10))\n",
    "\n",
    "    for i in range(len(L_all)):\n",
    "        plt.plot(X, L_all[i])\n",
    "\n",
    "    plt.title(\"Thermal Conductance Of Different Optimal Structures\")\n",
    "    plt.ylabel(\"Thermal Conductance\")\n",
    "    plt.xlabel(\"Calculated Structures\")\n",
    "    \n",
    "    plt.show()"
   ]
  },
  {
   "cell_type": "code",
   "execution_count": null,
   "metadata": {},
   "outputs": [],
   "source": [
    "def find_max(y):\n",
    "    max_so_far = 0\n",
    "    y_max = []\n",
    "\n",
    "    for i in list(y):\n",
    "        if i > max_so_far:\n",
    "            max_so_far = i\n",
    "            y_max.append(max_so_far)\n",
    "        else:\n",
    "            y_max.append(max_so_far)\n",
    "    \n",
    "    return np.array(y_max)"
   ]
  },
  {
   "cell_type": "code",
   "execution_count": null,
   "metadata": {},
   "outputs": [],
   "source": [
    "def find_min(y):\n",
    "    min_so_far = 1000\n",
    "    y_min = []\n",
    "\n",
    "    for i in list(y):\n",
    "        if i < min_so_far:\n",
    "            min_so_far = i\n",
    "            y_min.append(min_so_far)\n",
    "        else:\n",
    "            y_min.append(min_so_far)\n",
    "    \n",
    "    return np.array(y_min)"
   ]
  },
  {
   "cell_type": "code",
   "execution_count": null,
   "metadata": {},
   "outputs": [],
   "source": []
  },
  {
   "cell_type": "code",
   "execution_count": null,
   "metadata": {},
   "outputs": [],
   "source": []
  },
  {
   "cell_type": "code",
   "execution_count": null,
   "metadata": {},
   "outputs": [],
   "source": [
    "# Create a dictionary to store experiment results\n",
    "data_d = {}\n",
    "for i in range(1, 11):\n",
    "    data_d[\"data{0}\".format(i)] = np.load('results/Si-Ge_1010_max/results'+str(i)+'.npz')\n",
    "#data_d['data1'].files\n",
    "\n",
    "# Set X as calculated number of structures, and y as structures' get_reward value\n",
    "X = np.arange(1, len(data_d['data1']['fx'])+1, 1)\n",
    "y_d = {}\n",
    "for i in range(1,11):\n",
    "    y_d['y{0}'.format(i)] = data_d['data'+str(i)]['fx']\n",
    "\n",
    "# Create a dictionary of best-so-far values\n",
    "y_max = {}\n",
    "for i in range(1,11):\n",
    "    y_max['y{0}_max'.format(i)] = find_max(y_d['y'+str(i)])\n",
    "    "
   ]
  },
  {
   "cell_type": "code",
   "execution_count": null,
   "metadata": {},
   "outputs": [],
   "source": []
  },
  {
   "cell_type": "code",
   "execution_count": null,
   "metadata": {},
   "outputs": [],
   "source": [
    "# Create a dictionary to store experiment results\n",
    "data_d = {}\n",
    "for i in range(1, 11):\n",
    "    data_d[\"data{0}\".format(i)] = np.load('results/Si-Ge_1010_min/results'+str(i)+'.npz')\n",
    "\n",
    "# Set X as calculated number of structures, and y as structures' get_reward value\n",
    "X = np.arange(1, len(data_d['data1']['fx'])+1, 1)\n",
    "y_d = {}\n",
    "for i in range(1,11):\n",
    "    y_d['y{0}'.format(i)] = data_d['data'+str(i)]['fx']\n",
    "\n",
    "# Create a dictionary of worst-so-far values\n",
    "y_min = {}\n",
    "for i in range(1,11):\n",
    "    y_min['y{0}_min'.format(i)] = find_min(y_d['y'+str(i)])"
   ]
  },
  {
   "cell_type": "code",
   "execution_count": null,
   "metadata": {},
   "outputs": [],
   "source": []
  },
  {
   "cell_type": "code",
   "execution_count": null,
   "metadata": {},
   "outputs": [],
   "source": [
    "# Plot everything in one graph\n",
    "L_all = []\n",
    "\n",
    "for i in y_max.values():\n",
    "    L_all.append(i)\n",
    "\n",
    "for i in y_min.values():\n",
    "    L_all.append(i)\n",
    "\n",
    "plot_all(L_all, X)"
   ]
  },
  {
   "cell_type": "code",
   "execution_count": null,
   "metadata": {},
   "outputs": [],
   "source": []
  },
  {
   "cell_type": "code",
   "execution_count": null,
   "metadata": {},
   "outputs": [],
   "source": [
    "from igraph import *"
   ]
  },
  {
   "cell_type": "code",
   "execution_count": null,
   "metadata": {},
   "outputs": [],
   "source": [
    "edges = [(0, 1),\n",
    "         (1, 2),\n",
    "         (2, 3),\n",
    "         (1, 4),\n",
    "         (4, 5),\n",
    "         (4, 6),\n",
    "         (2, 7),\n",
    "         (0, 8),\n",
    "         (8, 9),\n",
    "         (9, 10),\n",
    "         (9, 11)]\n",
    "\n",
    "tree = Graph(edges=edges)\n",
    "tree.vs['label'] = [v.index for v in tree.vs]\n",
    "plot(tree,layout=tree.layout('rt',root=[0]),bbox=(300,300))"
   ]
  },
  {
   "cell_type": "code",
   "execution_count": null,
   "metadata": {},
   "outputs": [],
   "source": []
  },
  {
   "cell_type": "code",
   "execution_count": null,
   "metadata": {},
   "outputs": [],
   "source": [
    "data_d['data1'].files"
   ]
  },
  {
   "cell_type": "code",
   "execution_count": null,
   "metadata": {},
   "outputs": [],
   "source": [
    "data_d['data1']['checked_candidates'][2]"
   ]
  },
  {
   "cell_type": "code",
   "execution_count": null,
   "metadata": {},
   "outputs": [],
   "source": []
  },
  {
   "cell_type": "code",
   "execution_count": 1,
   "metadata": {},
   "outputs": [
    {
     "output_type": "execute_result",
     "data": {
      "text/plain": [
       "{'d1': [0, 0, 0],\n",
       " 'd2': [0, 1, 0],\n",
       " 'd3': [0, 1, 1],\n",
       " 'd4': [0, 0, 1],\n",
       " 'd5': [1, 1, 0],\n",
       " 'd6': [1, 1, 1]}"
      ]
     },
     "metadata": {},
     "execution_count": 1
    }
   ],
   "source": [
    "test_d = {'d1': [0, 0, 0],\n",
    "          'd2': [0, 1, 0],\n",
    "          'd3': [0, 1, 1],\n",
    "          'd4': [0, 0, 1],\n",
    "          'd5': [1, 1, 0],\n",
    "          'd6': [1, 1, 1]}\n",
    "test_d"
   ]
  },
  {
   "cell_type": "code",
   "execution_count": null,
   "metadata": {},
   "outputs": [],
   "source": []
  },
  {
   "cell_type": "code",
   "execution_count": null,
   "metadata": {},
   "outputs": [],
   "source": [
    "ind_d = {'i1': [1, 2, 3]}\n",
    "same_path = True\n",
    "count = 3\n",
    "\n",
    "for i in range(1, len(test_d)):\n",
    "    temp = []\n",
    "    for j in range(3):\n",
    "        if test_d['d'+str(i+1)][j] == test_d['d'+str(i)][j] and same_path==True:\n",
    "            temp.append(ind_d['i'+str(i)][j])\n",
    "        else: \n",
    "            count += 1\n",
    "            temp.append(count)\n",
    "            same_path=False\n",
    "    ind_d['i'+str(i+1)] = temp\n",
    "    same_path=True\n",
    "\n",
    "ind_d"
   ]
  },
  {
   "cell_type": "code",
   "execution_count": null,
   "metadata": {},
   "outputs": [],
   "source": []
  },
  {
   "cell_type": "code",
   "execution_count": null,
   "metadata": {},
   "outputs": [],
   "source": []
  },
  {
   "cell_type": "code",
   "execution_count": 8,
   "metadata": {},
   "outputs": [],
   "source": [
    "ind_d = {'i1': [1, 2, 3]}\n",
    "D_list = {}\n",
    "compare_list = []\n",
    "same_path = True\n",
    "comp_score = 0\n",
    "D_count = 1\n",
    "d_count = 0\n",
    "count = 3\n",
    "\n",
    "for i in range(1, len(test_d)):\n",
    "    temp = []\n",
    "    sim_d = {}\n",
    "    # compare_list.append(test_d['d'+str(i)])\n",
    "    \n",
    "    up = test_d['d'+str(i)]\n",
    "    down = test_d['d'+str(i+1)]\n",
    "\n",
    "    compare_list.append(up)\n",
    "    for k in compare_list:\n",
    "        up = k\n",
    "        sim_score = 0\n",
    "        for j in range(3):\n",
    "            if down[j] == up[j]:\n",
    "                sim_score += 1\n",
    "            else:\n",
    "                break\n",
    "        sim_d[str(k)+str(down)] = sim_score\n",
    "        d_count += 1\n",
    "\n",
    "    D_list[str(D_count)] = sim_d\n",
    "    D_count += 1\n",
    "\n",
    "\n",
    "\n",
    "    for j in range(3):\n",
    "        if down[j] == up[j] and same_path==True:\n",
    "            temp.append(ind_d['i'+str(i)][j])\n",
    "        else: \n",
    "            count += 1\n",
    "            temp.append(count)\n",
    "            same_path=False\n",
    "\n",
    "    ind_d['i'+str(i+1)] = temp\n",
    "    same_path=True\n",
    "\n",
    "#ind_d\n",
    "#compare_list"
   ]
  },
  {
   "cell_type": "code",
   "execution_count": null,
   "metadata": {},
   "outputs": [],
   "source": []
  },
  {
   "cell_type": "code",
   "execution_count": null,
   "metadata": {},
   "outputs": [],
   "source": []
  },
  {
   "cell_type": "code",
   "execution_count": 9,
   "metadata": {},
   "outputs": [
    {
     "output_type": "stream",
     "name": "stdout",
     "text": [
      "{'1': {'[0, 0, 0][0, 1, 0]': 1},\n '2': {'[0, 0, 0][0, 1, 1]': 1, '[0, 1, 0][0, 1, 1]': 2},\n '3': {'[0, 0, 0][0, 0, 1]': 2,\n       '[0, 1, 0][0, 0, 1]': 1,\n       '[0, 1, 1][0, 0, 1]': 1},\n '4': {'[0, 0, 0][1, 1, 0]': 0,\n       '[0, 0, 1][1, 1, 0]': 0,\n       '[0, 1, 0][1, 1, 0]': 0,\n       '[0, 1, 1][1, 1, 0]': 0},\n '5': {'[0, 0, 0][1, 1, 1]': 0,\n       '[0, 0, 1][1, 1, 1]': 0,\n       '[0, 1, 0][1, 1, 1]': 0,\n       '[0, 1, 1][1, 1, 1]': 0,\n       '[1, 1, 0][1, 1, 1]': 2}}\n"
     ]
    }
   ],
   "source": [
    "import pprint\n",
    "pprint.pprint(D_list)"
   ]
  },
  {
   "cell_type": "code",
   "execution_count": 6,
   "metadata": {},
   "outputs": [],
   "source": []
  },
  {
   "cell_type": "code",
   "execution_count": 36,
   "metadata": {},
   "outputs": [
    {
     "output_type": "execute_result",
     "data": {
      "text/plain": [
       "True"
      ]
     },
     "metadata": {},
     "execution_count": 36
    }
   ],
   "source": [
    "def all_same(items):\n",
    "    return all(x == items[0] for x in items)\n",
    "\n",
    "check_vals = []\n",
    "for v in D_list['4'].values():\n",
    "    check_vals.append(v)\n",
    "\n",
    "all_same(check_vals)"
   ]
  },
  {
   "cell_type": "code",
   "execution_count": 95,
   "metadata": {},
   "outputs": [],
   "source": [
    "# function to return key for any value \n",
    "def get_key(val): \n",
    "    New_DL = []\n",
    "    for i in range(1, 6):\n",
    "        New_DL.append(D_list[str(i)])\n",
    "\n",
    "    for j in New_DL:\n",
    "        for key, value in j.items(): \n",
    "         if val == value: \n",
    "             return key \n",
    "  \n",
    "    return \"key doesn't exist\""
   ]
  },
  {
   "cell_type": "code",
   "execution_count": 122,
   "metadata": {},
   "outputs": [],
   "source": [
    "def ret_list(maxes_s):\n",
    "    ML = []\n",
    "    temp = []\n",
    "\n",
    "    for n in maxes_s:\n",
    "        for m in n:\n",
    "            if m=='0' or m=='1':\n",
    "                temp.append(int(m))\n",
    "        ML.append(temp)\n",
    "\n",
    "    return ML"
   ]
  },
  {
   "cell_type": "code",
   "execution_count": null,
   "metadata": {},
   "outputs": [],
   "source": []
  },
  {
   "cell_type": "code",
   "execution_count": 124,
   "metadata": {},
   "outputs": [
    {
     "output_type": "execute_result",
     "data": {
      "text/plain": [
       "['[0, 0, 0][0, 1, 0]',\n",
       " '[0, 1, 0][0, 1, 1]',\n",
       " '[0, 1, 0][0, 1, 1]',\n",
       " '[0, 0, 0][1, 1, 0]',\n",
       " '[0, 1, 0][0, 1, 1]']"
      ]
     },
     "metadata": {},
     "execution_count": 124
    }
   ],
   "source": [
    "maxes_ind = []\n",
    "for i in D_list.values():\n",
    "    maxes_ind.append(max(i.values()))\n",
    "\n",
    "maxes_s = []\n",
    "for j in maxes_ind:\n",
    "    maxes_s.append(get_key(j))\n",
    "\n",
    "maxes_s\n",
    "# MAX = ret_list(maxes_s)\n",
    "# MAX"
   ]
  },
  {
   "cell_type": "code",
   "execution_count": 165,
   "metadata": {},
   "outputs": [
    {
     "output_type": "execute_result",
     "data": {
      "text/plain": [
       "[['0', '0', '0'],\n",
       " ['0', '1', '0'],\n",
       " ['0', '1', '0'],\n",
       " ['0', '0', '0'],\n",
       " ['0', '1', '0']]"
      ]
     },
     "metadata": {},
     "execution_count": 165
    }
   ],
   "source": [
    "small = []\n",
    "big = []\n",
    "\n",
    "for i in range(5):\n",
    "    for l in maxes_s[i]:\n",
    "        if len(small) < 3:\n",
    "            if l=='0' or l=='1':\n",
    "                small.append(l)\n",
    "    big.append(small)\n",
    "    small = []\n",
    "\n",
    "big"
   ]
  },
  {
   "cell_type": "code",
   "execution_count": null,
   "metadata": {},
   "outputs": [],
   "source": []
  }
 ]
}