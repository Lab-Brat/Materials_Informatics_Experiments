{
 "metadata": {
  "language_info": {
   "codemirror_mode": {
    "name": "ipython",
    "version": 3
   },
   "file_extension": ".py",
   "mimetype": "text/x-python",
   "name": "python",
   "nbconvert_exporter": "python",
   "pygments_lexer": "ipython3",
   "version": "3.6.6-final"
  },
  "orig_nbformat": 2,
  "kernelspec": {
   "name": "python3",
   "display_name": "Python 3.6.6 64-bit",
   "metadata": {
    "interpreter": {
     "hash": "ea1d30b81493ad4e83832c30fd2d1afdd89257e8ee88b0c08169d2ce4111f838"
    }
   }
  }
 },
 "nbformat": 4,
 "nbformat_minor": 2,
 "cells": [
  {
   "cell_type": "code",
   "execution_count": null,
   "metadata": {},
   "outputs": [],
   "source": [
    "import numpy as np\n",
    "import matplotlib.pyplot as plt"
   ]
  },
  {
   "cell_type": "code",
   "execution_count": null,
   "metadata": {},
   "outputs": [],
   "source": []
  },
  {
   "cell_type": "code",
   "execution_count": null,
   "metadata": {
    "tags": []
   },
   "outputs": [],
   "source": [
    "# data = np.load('results.npz')\n",
    "# lst = data.files\n",
    "\n",
    "# for item in lst:\n",
    "#     print(item)\n",
    "#     print(data[item])"
   ]
  },
  {
   "cell_type": "code",
   "execution_count": null,
   "metadata": {},
   "outputs": [],
   "source": [
    " def plot_data(X, y1, y2, y3):\n",
    "    plt.figure(figsize=(8,6))\n",
    "    plt.plot(X, y1, label='y1')\n",
    "    plt.plot(X, y2, label='y2')\n",
    "    plt.plot(X, y3, label='y3')\n",
    "    plt.xticks(X)\n",
    "\n",
    "    # plt.vlines(X, 0, y, linestyle=\"dashed\")\n",
    "\n",
    "    plt.title(\"Thermal Conductance Of Different Optimal Structures\")\n",
    "    plt.ylabel(\"Thermal Conductance\")\n",
    "    plt.xlabel(\"Calculated Structures\")\n",
    "    plt.legend()\n",
    "\n",
    "    plt.show()"
   ]
  },
  {
   "cell_type": "code",
   "execution_count": null,
   "metadata": {},
   "outputs": [],
   "source": [
    "def find_max(y):\n",
    "    max_so_far = 0\n",
    "    y_max = []\n",
    "\n",
    "    for i in list(y):\n",
    "        if i > max_so_far:\n",
    "            max_so_far = i\n",
    "            y_max.append(max_so_far)\n",
    "        else:\n",
    "            y_max.append(max_so_far)\n",
    "    \n",
    "    return np.array(y_max)"
   ]
  },
  {
   "cell_type": "code",
   "execution_count": null,
   "metadata": {},
   "outputs": [],
   "source": []
  },
  {
   "cell_type": "code",
   "execution_count": null,
   "metadata": {},
   "outputs": [],
   "source": [
    "data1 = np.load('results1.npz')\n",
    "lst1 = data1.files\n",
    "\n",
    "data2 = np.load('results2.npz')\n",
    "lst2 = data2.files\n",
    "\n",
    "data3 = np.load('results3.npz')\n",
    "lst3 = data3.files"
   ]
  },
  {
   "cell_type": "code",
   "execution_count": null,
   "metadata": {},
   "outputs": [],
   "source": [
    "X = np.arange(1, 21, 1)\n",
    "y1 = data1['fx']\n",
    "y2 = data2['fx']\n",
    "y3 = data3['fx']\n",
    "\n",
    "plot_data(X, y1, y2, y3)"
   ]
  },
  {
   "cell_type": "code",
   "execution_count": null,
   "metadata": {},
   "outputs": [],
   "source": []
  }
 ]
}