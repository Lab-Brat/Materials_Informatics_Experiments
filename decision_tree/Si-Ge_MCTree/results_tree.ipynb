{
 "metadata": {
  "language_info": {
   "codemirror_mode": {
    "name": "ipython",
    "version": 3
   },
   "file_extension": ".py",
   "mimetype": "text/x-python",
   "name": "python",
   "nbconvert_exporter": "python",
   "pygments_lexer": "ipython3",
   "version": "3.6.6-final"
  },
  "orig_nbformat": 2,
  "kernelspec": {
   "name": "python3",
   "display_name": "Python 3.6.6 64-bit",
   "metadata": {
    "interpreter": {
     "hash": "ea1d30b81493ad4e83832c30fd2d1afdd89257e8ee88b0c08169d2ce4111f838"
    }
   }
  }
 },
 "nbformat": 4,
 "nbformat_minor": 2,
 "cells": [
  {
   "cell_type": "code",
   "execution_count": 1,
   "metadata": {},
   "outputs": [],
   "source": [
    "from igraph import *"
   ]
  },
  {
   "cell_type": "code",
   "execution_count": 2,
   "metadata": {},
   "outputs": [],
   "source": [
    "edges = [(0, 1),\n",
    "         (1, 2),\n",
    "         (2, 3),\n",
    "         (1, 4),\n",
    "         (4, 5),\n",
    "         (4, 6),\n",
    "         (2, 7),\n",
    "         (0, 8),\n",
    "         (8, 9),\n",
    "         (9, 10),\n",
    "         (9, 11)]\n",
    "\n",
    "tree = Graph(edges=edges)\n",
    "tree.vs['label'] = [v.index for v in tree.vs]\n",
    "#plot(tree,layout=tree.layout('rt',root=[0]),bbox=(300,300))"
   ]
  },
  {
   "cell_type": "code",
   "execution_count": null,
   "metadata": {},
   "outputs": [],
   "source": []
  },
  {
   "cell_type": "code",
   "execution_count": null,
   "metadata": {},
   "outputs": [],
   "source": []
  },
  {
   "cell_type": "code",
   "execution_count": null,
   "metadata": {},
   "outputs": [],
   "source": []
  },
  {
   "cell_type": "code",
   "execution_count": 3,
   "metadata": {},
   "outputs": [
    {
     "output_type": "execute_result",
     "data": {
      "text/plain": [
       "{'d1': [0, 0, 0],\n",
       " 'd2': [0, 1, 0],\n",
       " 'd3': [0, 1, 1],\n",
       " 'd4': [0, 0, 1],\n",
       " 'd5': [1, 1, 0],\n",
       " 'd6': [1, 1, 1]}"
      ]
     },
     "metadata": {},
     "execution_count": 3
    }
   ],
   "source": [
    "test_d = {'d1': [0, 0, 0],\n",
    "          'd2': [0, 1, 0],\n",
    "          'd3': [0, 1, 1],\n",
    "          'd4': [0, 0, 1],\n",
    "          'd5': [1, 1, 0],\n",
    "          'd6': [1, 1, 1]}\n",
    "test_d"
   ]
  },
  {
   "cell_type": "code",
   "execution_count": null,
   "metadata": {},
   "outputs": [],
   "source": []
  },
  {
   "cell_type": "code",
   "execution_count": 4,
   "metadata": {},
   "outputs": [],
   "source": [
    "def find_maxes(test_d):\n",
    "    compare_list = []\n",
    "    D_list = {}\n",
    "    D_count = 1\n",
    "    d_count = 0\n",
    "\n",
    "    for i in range(1, len(test_d)):\n",
    "        temp = []\n",
    "        sim_d = {}\n",
    "        # compare_list.append(test_d['d'+str(i)])\n",
    "        \n",
    "        up = test_d['d'+str(i)]\n",
    "        down = test_d['d'+str(i+1)]\n",
    "\n",
    "        compare_list.append(up)\n",
    "        for k in compare_list:\n",
    "            up = k\n",
    "            sim_score = 0\n",
    "            for j in range(3):\n",
    "                if down[j] == up[j]:\n",
    "                    sim_score += 1\n",
    "                else:\n",
    "                    break\n",
    "            sim_d[str(k)+str(down)] = sim_score\n",
    "            d_count += 1\n",
    "\n",
    "        D_list[str(D_count)] = sim_d\n",
    "        D_count += 1\n",
    "\n",
    "    return D_list\n"
   ]
  },
  {
   "cell_type": "code",
   "execution_count": 6,
   "metadata": {},
   "outputs": [],
   "source": [
    "# function to return key for any value \n",
    "def get_key(New_DL):\n",
    "    count = 0\n",
    "    most_alike = []\n",
    "\n",
    "    for j in New_DL:\n",
    "        for key, value in j.items():\n",
    "            if maxes_ind[count] == value:\n",
    "                most_alike.append(key)\n",
    "                count += 1\n",
    "        \n",
    "    return most_alike    "
   ]
  },
  {
   "cell_type": "code",
   "execution_count": 7,
   "metadata": {},
   "outputs": [],
   "source": [
    "def ret_list(maxes_s):\n",
    "    temp = []\n",
    "    ML = []\n",
    "\n",
    "    for i in range(5):\n",
    "        for l in maxes_s[i]:\n",
    "            if len(temp) < 3:\n",
    "                if l=='0' or l=='1':\n",
    "                    temp.append(int(l))\n",
    "        ML.append(temp)\n",
    "        temp = []\n",
    "\n",
    "    return ML"
   ]
  },
  {
   "cell_type": "code",
   "execution_count": null,
   "metadata": {},
   "outputs": [],
   "source": []
  },
  {
   "cell_type": "code",
   "execution_count": 42,
   "metadata": {},
   "outputs": [],
   "source": [
    "def get_key(New_DL):\n",
    "    count = 0\n",
    "    most_alike = []\n",
    "\n",
    "    for j in New_DL:\n",
    "        for key, value in j.items():\n",
    "            if maxes_ind[count] == value:\n",
    "                most_alike.append(key)\n",
    "                count += 1\n",
    "        \n",
    "    return most_alike    "
   ]
  },
  {
   "cell_type": "code",
   "execution_count": 43,
   "metadata": {},
   "outputs": [
    {
     "output_type": "execute_result",
     "data": {
      "text/plain": [
       "['[0, 0, 0][0, 1, 0]',\n",
       " '[0, 1, 0][0, 1, 1]',\n",
       " '[0, 0, 0][0, 0, 1]',\n",
       " '[0, 0, 0][1, 1, 0]',\n",
       " '[1, 1, 0][1, 1, 1]']"
      ]
     },
     "metadata": {},
     "execution_count": 43
    }
   ],
   "source": [
    "get_key(New_DL)"
   ]
  },
  {
   "cell_type": "code",
   "execution_count": null,
   "metadata": {},
   "outputs": [],
   "source": []
  },
  {
   "cell_type": "code",
   "execution_count": 44,
   "metadata": {},
   "outputs": [
    {
     "output_type": "execute_result",
     "data": {
      "text/plain": [
       "[[0, 0, 0], [0, 1, 0], [0, 0, 0], [0, 0, 0], [1, 1, 0]]"
      ]
     },
     "metadata": {},
     "execution_count": 44
    }
   ],
   "source": [
    "D_list = find_maxes(test_d)\n",
    "New_DL = []\n",
    "for i in range(1, 6):\n",
    "    New_DL.append(D_list[str(i)])\n",
    "\n",
    "maxes_ind = []\n",
    "for i in D_list.values():\n",
    "    maxes_ind.append(max(i.values()))\n",
    "\n",
    "maxes_s = get_key(New_DL)\n",
    "\n",
    "MAX = ret_list(maxes_s)\n",
    "MAX"
   ]
  },
  {
   "cell_type": "code",
   "execution_count": null,
   "metadata": {},
   "outputs": [],
   "source": []
  },
  {
   "cell_type": "code",
   "execution_count": null,
   "metadata": {},
   "outputs": [],
   "source": [
    "def all_same(items):\n",
    "    return all(x == items[0] for x in items)\n",
    "\n",
    "check_vals = []\n",
    "for v in D_list['4'].values():\n",
    "    check_vals.append(v)\n",
    "\n",
    "all_same(check_vals)"
   ]
  },
  {
   "cell_type": "code",
   "execution_count": null,
   "metadata": {},
   "outputs": [],
   "source": []
  },
  {
   "cell_type": "code",
   "execution_count": null,
   "metadata": {},
   "outputs": [],
   "source": []
  },
  {
   "cell_type": "code",
   "execution_count": null,
   "metadata": {},
   "outputs": [],
   "source": []
  },
  {
   "cell_type": "code",
   "execution_count": 13,
   "metadata": {},
   "outputs": [
    {
     "output_type": "error",
     "ename": "IndexError",
     "evalue": "list index out of range",
     "traceback": [
      "\u001b[1;31m---------------------------------------------------------------------------\u001b[0m",
      "\u001b[1;31mIndexError\u001b[0m                                Traceback (most recent call last)",
      "\u001b[1;32m<ipython-input-13-fb35e2ea3cff>\u001b[0m in \u001b[0;36m<module>\u001b[1;34m\u001b[0m\n\u001b[0;32m      6\u001b[0m     \u001b[0mtemp\u001b[0m \u001b[1;33m=\u001b[0m \u001b[1;33m[\u001b[0m\u001b[1;33m]\u001b[0m\u001b[1;33m\u001b[0m\u001b[1;33m\u001b[0m\u001b[0m\n\u001b[0;32m      7\u001b[0m \u001b[1;33m\u001b[0m\u001b[0m\n\u001b[1;32m----> 8\u001b[1;33m     \u001b[0mup\u001b[0m \u001b[1;33m=\u001b[0m\u001b[0mMAX\u001b[0m\u001b[1;33m[\u001b[0m\u001b[0mi\u001b[0m\u001b[1;33m]\u001b[0m\u001b[1;33m\u001b[0m\u001b[1;33m\u001b[0m\u001b[0m\n\u001b[0m\u001b[0;32m      9\u001b[0m     \u001b[0mdown\u001b[0m \u001b[1;33m=\u001b[0m \u001b[0mtest_d\u001b[0m\u001b[1;33m[\u001b[0m\u001b[1;34m'd'\u001b[0m\u001b[1;33m+\u001b[0m\u001b[0mstr\u001b[0m\u001b[1;33m(\u001b[0m\u001b[0mi\u001b[0m\u001b[1;33m+\u001b[0m\u001b[1;36m1\u001b[0m\u001b[1;33m)\u001b[0m\u001b[1;33m]\u001b[0m\u001b[1;33m\u001b[0m\u001b[1;33m\u001b[0m\u001b[0m\n\u001b[0;32m     10\u001b[0m \u001b[1;33m\u001b[0m\u001b[0m\n",
      "\u001b[1;31mIndexError\u001b[0m: list index out of range"
     ]
    }
   ],
   "source": [
    "ind_d = {'i1': [1, 2, 3]}\n",
    "same_path = True\n",
    "count = 3\n",
    "\n",
    "for i in range(1, len(test_d)):\n",
    "    temp = []\n",
    "\n",
    "    up = MAX[i]\n",
    "    down = test_d['d'+str(i+1)]\n",
    "\n",
    "    for j in range(3):\n",
    "        if down[j] == up[j] and same_path==True:\n",
    "            temp.append(ind_d['i'+str(i)][j])\n",
    "        else: \n",
    "            count += 1\n",
    "            temp.append(count)\n",
    "            same_path=False\n",
    "\n",
    "    ind_d['i'+str(i+1)] = temp\n",
    "    same_path=True\n",
    "\n",
    "ind_d"
   ]
  },
  {
   "cell_type": "code",
   "execution_count": null,
   "metadata": {},
   "outputs": [],
   "source": []
  },
  {
   "cell_type": "code",
   "execution_count": null,
   "metadata": {},
   "outputs": [],
   "source": [
    "import pprint\n",
    "pprint.pprint(D_list)"
   ]
  },
  {
   "cell_type": "code",
   "execution_count": null,
   "metadata": {},
   "outputs": [],
   "source": [
    "maxes_ind = []\n",
    "for i in D_list.values():\n",
    "    maxes_ind.append(max(i.values()))\n",
    "\n",
    "maxes_s = []\n",
    "for j in maxes_ind:\n",
    "    maxes_s.append(get_key(j))\n",
    "\n",
    "maxes_s\n",
    "MAX = ret_list(maxes_s)\n",
    "MAX"
   ]
  },
  {
   "cell_type": "code",
   "execution_count": null,
   "metadata": {},
   "outputs": [],
   "source": [
    "def ret_list(maxes_s):\n",
    "    temp = []\n",
    "    ML = []\n",
    "\n",
    "    for i in range(5):\n",
    "        for l in maxes_s[i]:\n",
    "            if len(temp) < 3:\n",
    "                if l=='0' or l=='1':\n",
    "                    temp.append(int(l))\n",
    "        ML.append(temp)\n",
    "        temp = []\n",
    "\n",
    "    return ML"
   ]
  },
  {
   "cell_type": "code",
   "execution_count": null,
   "metadata": {},
   "outputs": [],
   "source": []
  }
 ]
}