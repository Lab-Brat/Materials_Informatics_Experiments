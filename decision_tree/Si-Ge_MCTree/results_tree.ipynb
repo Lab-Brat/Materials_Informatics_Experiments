{
 "metadata": {
  "language_info": {
   "codemirror_mode": {
    "name": "ipython",
    "version": 3
   },
   "file_extension": ".py",
   "mimetype": "text/x-python",
   "name": "python",
   "nbconvert_exporter": "python",
   "pygments_lexer": "ipython3",
   "version": "3.6.6-final"
  },
  "orig_nbformat": 2,
  "kernelspec": {
   "name": "python3",
   "display_name": "Python 3.6.6 64-bit",
   "metadata": {
    "interpreter": {
     "hash": "ea1d30b81493ad4e83832c30fd2d1afdd89257e8ee88b0c08169d2ce4111f838"
    }
   }
  }
 },
 "nbformat": 4,
 "nbformat_minor": 2,
 "cells": [
  {
   "cell_type": "code",
   "execution_count": 81,
   "metadata": {},
   "outputs": [
    {
     "output_type": "execute_result",
     "data": {
      "text/plain": [
       "{'d1': [0, 0, 0],\n",
       " 'd2': [0, 1, 0],\n",
       " 'd3': [0, 1, 1],\n",
       " 'd4': [0, 0, 1],\n",
       " 'd5': [1, 1, 0],\n",
       " 'd6': [1, 1, 1]}"
      ]
     },
     "metadata": {},
     "execution_count": 81
    }
   ],
   "source": [
    "# test structures\n",
    "test_d = {'d1': [0, 0, 0],\n",
    "          'd2': [0, 1, 0],\n",
    "          'd3': [0, 1, 1],\n",
    "          'd4': [0, 0, 1],\n",
    "          'd5': [1, 1, 0],\n",
    "          'd6': [1, 1, 1]}\n",
    "test_d"
   ]
  },
  {
   "cell_type": "code",
   "execution_count": 70,
   "metadata": {},
   "outputs": [],
   "source": [
    "# # test structures\n",
    "# test_d = {'d1': [0, 0, 0, 0, 0, 0],\n",
    "#           'd2': [0, 0, 0, 0, 1, 1],\n",
    "#           'd3': [0, 0, 1, 1, 0, 1],\n",
    "#           'd4': [0, 1, 1, 1, 0, 0],\n",
    "#           'd5': [0, 1, 1, 1, 1, 1],\n",
    "#           'd6': [1, 0, 0, 1, 1, 0],\n",
    "#           'd7': [1, 0, 1, 0, 0, 0],\n",
    "#           'd8': [1, 0, 1, 0, 0, 1]}\n",
    "# test_d"
   ]
  },
  {
   "cell_type": "code",
   "execution_count": null,
   "metadata": {},
   "outputs": [],
   "source": []
  },
  {
   "cell_type": "code",
   "execution_count": 71,
   "metadata": {},
   "outputs": [],
   "source": [
    "# Create a dictionary containing similarity score of a selected structure\n",
    "def similarityDict(test_d):\n",
    "    compare_list = []\n",
    "    D = {}\n",
    "    D_count = 1\n",
    "    d_count = 0\n",
    "\n",
    "    for i in range(1, len(test_d)):\n",
    "        temp = []\n",
    "        sim_d = {}\n",
    "        \n",
    "        # select two adjacent structures at the top\n",
    "        up = test_d['d'+str(i)]\n",
    "        down = test_d['d'+str(i+1)]\n",
    "\n",
    "        # create the list for comparison. After each iteration additional\n",
    "        # structure will be added, 'down' coordinate will be compared with\n",
    "        # all the scructures in this list.\n",
    "        compare_list.append(up)\n",
    "\n",
    "        #compute similarity score\n",
    "        for k in compare_list:\n",
    "            up = k\n",
    "            sim_score = 0\n",
    "            for j in range(len(test_d['d1'])):\n",
    "                if down[j] == up[j]:\n",
    "                    sim_score += 1\n",
    "                else:\n",
    "                    break\n",
    "            # dictionary containing a structure \n",
    "            # and it's similarity score\n",
    "            sim_d[str(k)+str(down)] = sim_score\n",
    "            d_count += 1\n",
    "        \n",
    "        # dictionary containing all scores produced \n",
    "        # after each iteration\n",
    "        D[str(D_count)] = sim_d\n",
    "        D_count += 1\n",
    "\n",
    "    return D"
   ]
  },
  {
   "cell_type": "code",
   "execution_count": 72,
   "metadata": {},
   "outputs": [
    {
     "output_type": "stream",
     "name": "stdout",
     "text": [
      "{'1': {'[0, 0, 0][0, 1, 0]': 1},\n '2': {'[0, 0, 0][0, 1, 1]': 1, '[0, 1, 0][0, 1, 1]': 2},\n '3': {'[0, 0, 0][0, 0, 1]': 2,\n       '[0, 1, 0][0, 0, 1]': 1,\n       '[0, 1, 1][0, 0, 1]': 1},\n '4': {'[0, 0, 0][1, 1, 0]': 0,\n       '[0, 0, 1][1, 1, 0]': 0,\n       '[0, 1, 0][1, 1, 0]': 0,\n       '[0, 1, 1][1, 1, 0]': 0},\n '5': {'[0, 0, 0][1, 1, 1]': 0,\n       '[0, 0, 1][1, 1, 1]': 0,\n       '[0, 1, 0][1, 1, 1]': 0,\n       '[0, 1, 1][1, 1, 1]': 0,\n       '[1, 1, 0][1, 1, 1]': 2}}\n"
     ]
    }
   ],
   "source": [
    "# output similarity dictionary\n",
    "import pprint \n",
    "\n",
    "sim_D = similarityDict(test_d)\n",
    "pprint.pprint(sim_D)"
   ]
  },
  {
   "cell_type": "code",
   "execution_count": null,
   "metadata": {},
   "outputs": [],
   "source": []
  },
  {
   "cell_type": "code",
   "execution_count": 73,
   "metadata": {},
   "outputs": [],
   "source": [
    "# function to return key for any value \n",
    "def get_key(sim_L):\n",
    "    count = 0\n",
    "    most_alike = []\n",
    "\n",
    "    for j in sim_L:\n",
    "        for key, value in j.items():\n",
    "            if maxes_ind[count] == value:\n",
    "                most_alike.append(key)\n",
    "                count += 1\n",
    "        \n",
    "    return most_alike    "
   ]
  },
  {
   "cell_type": "code",
   "execution_count": 74,
   "metadata": {},
   "outputs": [],
   "source": [
    "# function to convert strings to lists\n",
    "def ret_list(maxes_s):\n",
    "    temp = []\n",
    "    ML = []\n",
    "\n",
    "    for i in range(len(maxes_s)):\n",
    "        for l in maxes_s[i]:\n",
    "            if len(temp) < (len(test_d['d1'])): #only the first 3 numbers\n",
    "                if l=='0' or l=='1':\n",
    "                    temp.append(int(l))\n",
    "        ML.append(temp)\n",
    "        temp = []\n",
    "\n",
    "    return ML"
   ]
  },
  {
   "cell_type": "code",
   "execution_count": 75,
   "metadata": {},
   "outputs": [
    {
     "output_type": "execute_result",
     "data": {
      "text/plain": [
       "[[0, 0, 0], [0, 1, 0], [0, 0, 0], [0, 0, 0], [1, 1, 0]]"
      ]
     },
     "metadata": {},
     "execution_count": 75
    }
   ],
   "source": [
    "# Un-matryoshka the similarity dictionary, \n",
    "# and put everything into a list (easier to index)\n",
    "sim_L = []\n",
    "for i in range(1, len(sim_D)+1):\n",
    "    sim_L.append(sim_D[str(i)])\n",
    "\n",
    "# Find the maximum similarity values for all structures\n",
    "maxes_ind = []\n",
    "for i in sim_D.values():\n",
    "    maxes_ind.append(max(i.values()))\n",
    "\n",
    "# get the structure according to it's max similarity value\n",
    "maxes_s = get_key(sim_L)\n",
    "# convert those structures into lists (they were str before)\n",
    "MAX = ret_list(maxes_s)\n",
    "MAX"
   ]
  },
  {
   "cell_type": "code",
   "execution_count": null,
   "metadata": {},
   "outputs": [],
   "source": []
  },
  {
   "cell_type": "code",
   "execution_count": null,
   "metadata": {},
   "outputs": [],
   "source": []
  },
  {
   "cell_type": "code",
   "execution_count": 76,
   "metadata": {},
   "outputs": [],
   "source": [
    "# if all the similarity values are same, choose the first structure\n",
    "# def all_same(items):\n",
    "#     return all(x == items[0] for x in items)\n",
    "\n",
    "# check_vals = []\n",
    "# for v in sim_D['4'].values():\n",
    "#     check_vals.append(v)\n",
    "\n",
    "# all_same(check_vals)"
   ]
  },
  {
   "cell_type": "code",
   "execution_count": null,
   "metadata": {},
   "outputs": [],
   "source": []
  },
  {
   "cell_type": "code",
   "execution_count": 77,
   "metadata": {},
   "outputs": [
    {
     "output_type": "execute_result",
     "data": {
      "text/plain": [
       "[0, 0, 0]"
      ]
     },
     "metadata": {},
     "execution_count": 77
    }
   ],
   "source": [
    "up = MAX[0] \n",
    "up"
   ]
  },
  {
   "cell_type": "code",
   "execution_count": 78,
   "metadata": {},
   "outputs": [
    {
     "output_type": "execute_result",
     "data": {
      "text/plain": [
       "{'i1': [1, 2, 3],\n",
       " 'i2': [1, 4, 5],\n",
       " 'i3': [1, 4, 6],\n",
       " 'i4': [1, 2, 7],\n",
       " 'i5': [8, 9, 10],\n",
       " 'i6': [8, 9, 11]}"
      ]
     },
     "metadata": {},
     "execution_count": 78
    }
   ],
   "source": [
    "# Set values for verticies\n",
    "def Verticies(test_d, MAX):\n",
    "    # initialize the vertecies of first structure\n",
    "    init_v = list(range(1, len(MAX[0])+1))\n",
    "    ind_d = {'i1': init_v}\n",
    "    same_path = True \n",
    "    count = 3\n",
    "\n",
    "    # label verticies according to structures in MAX\n",
    "    for i in range(1, len(test_d)):\n",
    "        temp = []\n",
    "\n",
    "        # set 'up' structure as the once that has the highest \n",
    "        # similarity value as 'down' ( as computed in MAX)\n",
    "        up = MAX[i-1]               #start from [0,0,0]\n",
    "        down = test_d['d'+str(i+1)] #start from [0,1,0]\n",
    "\n",
    "        for j in range(len(up)):\n",
    "            # if verticies are on the same path, set values \n",
    "            # same as in verticies along this path\n",
    "            if down[j] == up[j] and same_path==True:\n",
    "                temp.append(ind_d['i'+str(MAX.index(up)+1)][j])\n",
    "            # if path diverges, verticies get a new value\n",
    "            else: \n",
    "                count += 1\n",
    "                temp.append(count)\n",
    "                # since path diverged, all following \n",
    "                # verticies will have new values\n",
    "                same_path=False\n",
    "\n",
    "        # Add verticies values into a dictionary\n",
    "        ind_d['i'+str(i+1)] = temp\n",
    "        # Path is reset\n",
    "        same_path=True\n",
    "\n",
    "    return ind_d\n",
    "\n",
    "vertecies_val = Verticies(test_d, MAX)\n",
    "vertecies_val"
   ]
  },
  {
   "cell_type": "code",
   "execution_count": null,
   "metadata": {},
   "outputs": [],
   "source": []
  },
  {
   "cell_type": "code",
   "execution_count": 79,
   "metadata": {},
   "outputs": [],
   "source": [
    "# Compute edges from vertecies and path infromation\n",
    "def Edges(vertecies_val):\n",
    "    root = [0]\n",
    "    EDGES = []\n",
    "    idx = 0\n",
    "\n",
    "    for i in vertecies_val.values():\n",
    "        for j in range(len(i)):\n",
    "            if j == 0 and (root[idx],i[idx]) not in EDGES :\n",
    "                EDGES.append((root[idx],i[idx]))\n",
    "            elif j == 1 and (i[idx], i[idx+1]) not in EDGES:\n",
    "                EDGES.append((i[idx], i[idx+1]))\n",
    "            elif j == 2 and (i[idx+1], i[idx+2]) not in EDGES:\n",
    "                EDGES.append((i[idx+1], i[idx+2]))\n",
    "                \n",
    "    return EDGES\n",
    "\n",
    "EDGES = Edges(vertecies_val)"
   ]
  },
  {
   "cell_type": "code",
   "execution_count": null,
   "metadata": {},
   "outputs": [],
   "source": []
  },
  {
   "cell_type": "code",
   "execution_count": 80,
   "metadata": {},
   "outputs": [
    {
     "output_type": "execute_result",
     "data": {
      "text/plain": [
       "<igraph.drawing.Plot at 0x1a7c3a420b8>"
      ],
      "image/svg+xml": "<?xml version=\"1.0\" encoding=\"UTF-8\"?>\n<svg xmlns=\"http://www.w3.org/2000/svg\" xmlns:xlink=\"http://www.w3.org/1999/xlink\" width=\"300pt\" height=\"300pt\" viewBox=\"0 0 300 300\" version=\"1.1\">\n<defs>\n<g>\n<symbol overflow=\"visible\" id=\"glyph0-0\">\n<path style=\"stroke:none;\" d=\"M 1.75 0 L 1.75 -8.75 L 8.75 -8.75 L 8.75 0 Z M 1.96875 -0.21875 L 8.53125 -0.21875 L 8.53125 -8.53125 L 1.96875 -8.53125 Z M 1.96875 -0.21875 \"/>\n</symbol>\n<symbol overflow=\"visible\" id=\"glyph0-1\">\n<path style=\"stroke:none;\" d=\"M 0.582031 -4.941406 C 0.578125 -6.121094 0.699219 -7.074219 0.945313 -7.800781 C 1.1875 -8.519531 1.550781 -9.078125 2.03125 -9.472656 C 2.511719 -9.863281 3.117188 -10.058594 3.847656 -10.0625 C 4.382813 -10.058594 4.855469 -9.953125 5.261719 -9.738281 C 5.667969 -9.519531 6 -9.207031 6.265625 -8.800781 C 6.527344 -8.390625 6.738281 -7.890625 6.890625 -7.308594 C 7.039063 -6.722656 7.113281 -5.933594 7.117188 -4.941406 C 7.113281 -3.761719 6.992188 -2.8125 6.753906 -2.09375 C 6.507813 -1.367188 6.144531 -0.808594 5.667969 -0.417969 C 5.183594 -0.0234375 4.578125 0.167969 3.847656 0.171875 C 2.878906 0.167969 2.121094 -0.175781 1.570313 -0.867188 C 0.910156 -1.699219 0.578125 -3.054688 0.582031 -4.941406 Z M 1.84375 -4.941406 C 1.839844 -3.292969 2.03125 -2.199219 2.421875 -1.65625 C 2.804688 -1.109375 3.28125 -0.835938 3.847656 -0.839844 C 4.410156 -0.835938 4.886719 -1.109375 5.273438 -1.660156 C 5.65625 -2.203125 5.847656 -3.296875 5.851563 -4.941406 C 5.847656 -6.589844 5.65625 -7.6875 5.273438 -8.230469 C 4.886719 -8.769531 4.40625 -9.039063 3.835938 -9.042969 C 3.269531 -9.039063 2.816406 -8.800781 2.480469 -8.328125 C 2.050781 -7.710938 1.839844 -6.582031 1.84375 -4.941406 Z M 1.84375 -4.941406 \"/>\n</symbol>\n<symbol overflow=\"visible\" id=\"glyph0-2\">\n<path style=\"stroke:none;\" d=\"M 5.214844 0 L 3.984375 0 L 3.984375 -7.839844 C 3.6875 -7.558594 3.296875 -7.273438 2.816406 -6.992188 C 2.335938 -6.707031 1.90625 -6.496094 1.523438 -6.359375 L 1.523438 -7.546875 C 2.210938 -7.867188 2.8125 -8.257813 3.328125 -8.722656 C 3.84375 -9.179688 4.207031 -9.625 4.421875 -10.0625 L 5.214844 -10.0625 Z M 5.214844 0 \"/>\n</symbol>\n<symbol overflow=\"visible\" id=\"glyph0-3\">\n<path style=\"stroke:none;\" d=\"M 7.046875 -1.183594 L 7.046875 0 L 0.421875 0 C 0.414063 -0.296875 0.460938 -0.582031 0.566406 -0.855469 C 0.734375 -1.304688 1.003906 -1.746094 1.375 -2.1875 C 1.746094 -2.621094 2.285156 -3.128906 2.988281 -3.703125 C 4.074219 -4.597656 4.808594 -5.304688 5.195313 -5.828125 C 5.574219 -6.347656 5.765625 -6.839844 5.769531 -7.308594 C 5.765625 -7.792969 5.589844 -8.203125 5.246094 -8.539063 C 4.894531 -8.871094 4.441406 -9.039063 3.882813 -9.042969 C 3.285156 -9.039063 2.8125 -8.863281 2.460938 -8.507813 C 2.105469 -8.152344 1.925781 -7.660156 1.921875 -7.035156 L 0.65625 -7.164063 C 0.742188 -8.105469 1.066406 -8.824219 1.632813 -9.320313 C 2.195313 -9.8125 2.953125 -10.058594 3.910156 -10.0625 C 4.867188 -10.058594 5.628906 -9.792969 6.191406 -9.261719 C 6.75 -8.726563 7.03125 -8.066406 7.035156 -7.28125 C 7.03125 -6.878906 6.949219 -6.484375 6.789063 -6.097656 C 6.621094 -5.707031 6.347656 -5.296875 5.96875 -4.871094 C 5.585938 -4.441406 4.953125 -3.855469 4.074219 -3.109375 C 3.332031 -2.488281 2.859375 -2.066406 2.652344 -1.847656 C 2.4375 -1.621094 2.265625 -1.402344 2.132813 -1.183594 Z M 7.046875 -1.183594 \"/>\n</symbol>\n<symbol overflow=\"visible\" id=\"glyph0-4\">\n<path style=\"stroke:none;\" d=\"M 0.585938 -2.644531 L 1.820313 -2.808594 C 1.957031 -2.109375 2.195313 -1.609375 2.539063 -1.300781 C 2.875 -0.992188 3.289063 -0.835938 3.78125 -0.839844 C 4.355469 -0.835938 4.84375 -1.039063 5.246094 -1.441406 C 5.640625 -1.839844 5.839844 -2.335938 5.84375 -2.933594 C 5.839844 -3.496094 5.65625 -3.960938 5.289063 -4.332031 C 4.917969 -4.695313 4.449219 -4.878906 3.882813 -4.882813 C 3.648438 -4.878906 3.359375 -4.832031 3.015625 -4.742188 L 3.152344 -5.824219 C 3.230469 -5.816406 3.296875 -5.8125 3.351563 -5.8125 C 3.875 -5.8125 4.34375 -5.949219 4.765625 -6.222656 C 5.179688 -6.496094 5.390625 -6.914063 5.394531 -7.484375 C 5.390625 -7.933594 5.238281 -8.308594 4.933594 -8.605469 C 4.628906 -8.898438 4.234375 -9.046875 3.753906 -9.050781 C 3.273438 -9.046875 2.875 -8.894531 2.554688 -8.597656 C 2.234375 -8.292969 2.027344 -7.84375 1.941406 -7.246094 L 0.710938 -7.464844 C 0.859375 -8.289063 1.203125 -8.925781 1.734375 -9.382813 C 2.265625 -9.832031 2.929688 -10.058594 3.726563 -10.0625 C 4.273438 -10.058594 4.773438 -9.941406 5.234375 -9.710938 C 5.691406 -9.472656 6.042969 -9.152344 6.289063 -8.75 C 6.53125 -8.339844 6.65625 -7.910156 6.65625 -7.457031 C 6.65625 -7.023438 6.539063 -6.628906 6.308594 -6.273438 C 6.074219 -5.917969 5.730469 -5.636719 5.277344 -5.429688 C 5.867188 -5.289063 6.328125 -5.003906 6.65625 -4.574219 C 6.984375 -4.140625 7.148438 -3.601563 7.148438 -2.960938 C 7.148438 -2.082031 6.828125 -1.339844 6.191406 -0.734375 C 5.550781 -0.125 4.746094 0.175781 3.773438 0.179688 C 2.890625 0.175781 2.160156 -0.0820313 1.582031 -0.605469 C 1 -1.128906 0.667969 -1.808594 0.585938 -2.644531 Z M 0.585938 -2.644531 \"/>\n</symbol>\n<symbol overflow=\"visible\" id=\"glyph0-5\">\n<path style=\"stroke:none;\" d=\"M 4.523438 0 L 4.523438 -2.398438 L 0.179688 -2.398438 L 0.179688 -3.527344 L 4.75 -10.023438 L 5.757813 -10.023438 L 5.757813 -3.527344 L 7.109375 -3.527344 L 7.109375 -2.398438 L 5.757813 -2.398438 L 5.757813 0 Z M 4.523438 -3.527344 L 4.523438 -8.046875 L 1.386719 -3.527344 Z M 4.523438 -3.527344 \"/>\n</symbol>\n<symbol overflow=\"visible\" id=\"glyph0-6\">\n<path style=\"stroke:none;\" d=\"M 0.582031 -2.625 L 1.875 -2.734375 C 1.96875 -2.101563 2.1875 -1.628906 2.539063 -1.3125 C 2.882813 -0.996094 3.304688 -0.835938 3.800781 -0.839844 C 4.390625 -0.835938 4.890625 -1.058594 5.304688 -1.507813 C 5.710938 -1.953125 5.917969 -2.546875 5.921875 -3.289063 C 5.917969 -3.984375 5.71875 -4.539063 5.328125 -4.949219 C 4.929688 -5.351563 4.414063 -5.554688 3.78125 -5.558594 C 3.382813 -5.554688 3.027344 -5.464844 2.707031 -5.285156 C 2.386719 -5.105469 2.132813 -4.871094 1.953125 -4.585938 L 0.800781 -4.738281 L 1.769531 -9.882813 L 6.753906 -9.882813 L 6.753906 -8.710938 L 2.753906 -8.710938 L 2.214844 -6.015625 C 2.816406 -6.433594 3.445313 -6.644531 4.109375 -6.644531 C 4.980469 -6.644531 5.71875 -6.339844 6.324219 -5.734375 C 6.921875 -5.128906 7.222656 -4.351563 7.226563 -3.398438 C 7.222656 -2.492188 6.960938 -1.707031 6.433594 -1.046875 C 5.789063 -0.234375 4.910156 0.167969 3.800781 0.171875 C 2.886719 0.167969 2.140625 -0.0820313 1.566406 -0.59375 C 0.988281 -1.101563 0.660156 -1.78125 0.582031 -2.625 Z M 0.582031 -2.625 \"/>\n</symbol>\n<symbol overflow=\"visible\" id=\"glyph0-7\">\n<path style=\"stroke:none;\" d=\"M 6.964844 -7.566406 L 5.742188 -7.472656 C 5.632813 -7.949219 5.476563 -8.300781 5.277344 -8.523438 C 4.941406 -8.871094 4.53125 -9.046875 4.046875 -9.050781 C 3.652344 -9.046875 3.308594 -8.9375 3.015625 -8.722656 C 2.625 -8.4375 2.320313 -8.023438 2.097656 -7.484375 C 1.875 -6.9375 1.757813 -6.167969 1.75 -5.167969 C 2.042969 -5.617188 2.40625 -5.949219 2.835938 -6.171875 C 3.265625 -6.386719 3.714844 -6.496094 4.183594 -6.5 C 5.003906 -6.496094 5.699219 -6.195313 6.277344 -5.59375 C 6.851563 -4.988281 7.140625 -4.207031 7.144531 -3.253906 C 7.140625 -2.621094 7.003906 -2.039063 6.734375 -1.5 C 6.460938 -0.960938 6.089844 -0.546875 5.617188 -0.257813 C 5.140625 0.0273438 4.605469 0.167969 4.007813 0.171875 C 2.980469 0.167969 2.140625 -0.207031 1.496094 -0.960938 C 0.847656 -1.714844 0.527344 -2.957031 0.527344 -4.6875 C 0.527344 -6.625 0.882813 -8.03125 1.601563 -8.914063 C 2.21875 -9.675781 3.058594 -10.058594 4.121094 -10.0625 C 4.90625 -10.058594 5.554688 -9.839844 6.058594 -9.398438 C 6.5625 -8.953125 6.863281 -8.339844 6.964844 -7.566406 Z M 1.941406 -3.246094 C 1.9375 -2.820313 2.027344 -2.414063 2.210938 -2.027344 C 2.386719 -1.640625 2.640625 -1.34375 2.964844 -1.144531 C 3.289063 -0.9375 3.628906 -0.835938 3.984375 -0.839844 C 4.503906 -0.835938 4.949219 -1.046875 5.324219 -1.46875 C 5.695313 -1.886719 5.882813 -2.457031 5.886719 -3.179688 C 5.882813 -3.871094 5.699219 -4.417969 5.332031 -4.816406 C 4.960938 -5.214844 4.496094 -5.414063 3.9375 -5.414063 C 3.378906 -5.414063 2.90625 -5.214844 2.519531 -4.816406 C 2.132813 -4.417969 1.9375 -3.894531 1.941406 -3.246094 Z M 1.941406 -3.246094 \"/>\n</symbol>\n<symbol overflow=\"visible\" id=\"glyph0-8\">\n<path style=\"stroke:none;\" d=\"M 0.664063 -8.710938 L 0.664063 -9.890625 L 7.148438 -9.890625 L 7.148438 -8.933594 C 6.511719 -8.25 5.878906 -7.347656 5.253906 -6.226563 C 4.625 -5.097656 4.140625 -3.941406 3.800781 -2.753906 C 3.550781 -1.914063 3.394531 -0.996094 3.328125 0 L 2.0625 0 C 2.078125 -0.789063 2.230469 -1.738281 2.527344 -2.855469 C 2.820313 -3.96875 3.246094 -5.046875 3.800781 -6.085938 C 4.351563 -7.121094 4.941406 -7.996094 5.570313 -8.710938 Z M 0.664063 -8.710938 \"/>\n</symbol>\n<symbol overflow=\"visible\" id=\"glyph0-9\">\n<path style=\"stroke:none;\" d=\"M 2.476563 -5.433594 C 1.964844 -5.617188 1.585938 -5.886719 1.339844 -6.234375 C 1.089844 -6.578125 0.964844 -6.992188 0.96875 -7.476563 C 0.964844 -8.203125 1.226563 -8.816406 1.753906 -9.316406 C 2.277344 -9.8125 2.976563 -10.058594 3.847656 -10.0625 C 4.71875 -10.058594 5.421875 -9.804688 5.960938 -9.300781 C 6.492188 -8.789063 6.761719 -8.171875 6.761719 -7.445313 C 6.761719 -6.976563 6.636719 -6.570313 6.394531 -6.230469 C 6.148438 -5.882813 5.78125 -5.617188 5.285156 -5.433594 C 5.898438 -5.230469 6.363281 -4.90625 6.6875 -4.460938 C 7.007813 -4.011719 7.171875 -3.480469 7.171875 -2.863281 C 7.171875 -2.003906 6.867188 -1.285156 6.261719 -0.703125 C 5.652344 -0.121094 4.855469 0.167969 3.867188 0.171875 C 2.878906 0.167969 2.082031 -0.121094 1.476563 -0.707031 C 0.867188 -1.289063 0.5625 -2.019531 0.566406 -2.898438 C 0.5625 -3.546875 0.726563 -4.09375 1.0625 -4.535156 C 1.390625 -4.972656 1.863281 -5.269531 2.476563 -5.433594 Z M 2.226563 -7.519531 C 2.226563 -7.042969 2.378906 -6.65625 2.683594 -6.355469 C 2.988281 -6.054688 3.382813 -5.90625 3.875 -5.90625 C 4.34375 -5.90625 4.734375 -6.054688 5.039063 -6.351563 C 5.34375 -6.648438 5.496094 -7.015625 5.496094 -7.453125 C 5.496094 -7.902344 5.339844 -8.28125 5.027344 -8.589844 C 4.714844 -8.894531 4.324219 -9.046875 3.863281 -9.050781 C 3.386719 -9.046875 2.996094 -8.894531 2.691406 -8.597656 C 2.378906 -8.292969 2.226563 -7.933594 2.226563 -7.519531 Z M 1.832031 -2.890625 C 1.828125 -2.539063 1.910156 -2.203125 2.082031 -1.875 C 2.246094 -1.546875 2.496094 -1.289063 2.824219 -1.109375 C 3.152344 -0.925781 3.503906 -0.835938 3.882813 -0.839844 C 4.46875 -0.835938 4.953125 -1.027344 5.339844 -1.40625 C 5.71875 -1.785156 5.910156 -2.265625 5.914063 -2.851563 C 5.910156 -3.441406 5.714844 -3.929688 5.320313 -4.320313 C 4.925781 -4.703125 4.433594 -4.898438 3.84375 -4.902344 C 3.261719 -4.898438 2.78125 -4.707031 2.402344 -4.328125 C 2.019531 -3.941406 1.828125 -3.460938 1.832031 -2.890625 Z M 1.832031 -2.890625 \"/>\n</symbol>\n<symbol overflow=\"visible\" id=\"glyph0-10\">\n<path style=\"stroke:none;\" d=\"M 0.765625 -2.316406 L 1.949219 -2.425781 C 2.046875 -1.871094 2.238281 -1.464844 2.519531 -1.214844 C 2.800781 -0.960938 3.164063 -0.835938 3.609375 -0.839844 C 3.984375 -0.835938 4.3125 -0.921875 4.601563 -1.097656 C 4.882813 -1.269531 5.117188 -1.503906 5.304688 -1.792969 C 5.484375 -2.082031 5.636719 -2.472656 5.761719 -2.964844 C 5.878906 -3.457031 5.941406 -3.957031 5.945313 -4.46875 C 5.941406 -4.523438 5.941406 -4.605469 5.941406 -4.71875 C 5.691406 -4.320313 5.351563 -4.003906 4.929688 -3.761719 C 4.5 -3.519531 4.039063 -3.398438 3.546875 -3.398438 C 2.714844 -3.398438 2.015625 -3.699219 1.441406 -4.300781 C 0.867188 -4.902344 0.578125 -5.695313 0.582031 -6.679688 C 0.578125 -7.695313 0.878906 -8.511719 1.480469 -9.132813 C 2.078125 -9.75 2.828125 -10.058594 3.734375 -10.0625 C 4.382813 -10.058594 4.980469 -9.882813 5.519531 -9.535156 C 6.058594 -9.179688 6.46875 -8.679688 6.75 -8.035156 C 7.03125 -7.382813 7.171875 -6.445313 7.171875 -5.214844 C 7.171875 -3.933594 7.03125 -2.914063 6.753906 -2.15625 C 6.472656 -1.398438 6.058594 -0.820313 5.511719 -0.421875 C 4.960938 -0.0273438 4.316406 0.167969 3.582031 0.171875 C 2.792969 0.167969 2.152344 -0.046875 1.660156 -0.480469 C 1.160156 -0.914063 0.863281 -1.523438 0.765625 -2.316406 Z M 5.804688 -6.742188 C 5.800781 -7.445313 5.613281 -8.003906 5.238281 -8.421875 C 4.863281 -8.832031 4.410156 -9.039063 3.882813 -9.042969 C 3.332031 -9.039063 2.855469 -8.816406 2.453125 -8.371094 C 2.042969 -7.921875 1.839844 -7.34375 1.84375 -6.636719 C 1.839844 -5.996094 2.03125 -5.476563 2.421875 -5.082031 C 2.804688 -4.679688 3.28125 -4.480469 3.847656 -4.484375 C 4.414063 -4.480469 4.882813 -4.679688 5.253906 -5.082031 C 5.617188 -5.476563 5.800781 -6.03125 5.804688 -6.742188 Z M 5.804688 -6.742188 \"/>\n</symbol>\n</g>\n</defs>\n<g id=\"surface2\">\n<rect x=\"0\" y=\"0\" width=\"300\" height=\"300\" style=\"fill:rgb(100%,100%,100%);fill-opacity:1;stroke:none;\"/>\n<path style=\"fill:none;stroke-width:1;stroke-linecap:butt;stroke-linejoin:miter;stroke:rgb(26.666667%,26.666667%,26.666667%);stroke-opacity:1;stroke-miterlimit:10;\" d=\"M 176 20 L 98 106.667969 \"/>\n<path style=\"fill:none;stroke-width:1;stroke-linecap:butt;stroke-linejoin:miter;stroke:rgb(26.666667%,26.666667%,26.666667%);stroke-opacity:1;stroke-miterlimit:10;\" d=\"M 98 106.667969 L 46 193.332031 \"/>\n<path style=\"fill:none;stroke-width:1;stroke-linecap:butt;stroke-linejoin:miter;stroke:rgb(26.666667%,26.666667%,26.666667%);stroke-opacity:1;stroke-miterlimit:10;\" d=\"M 46 193.332031 L 20 280 \"/>\n<path style=\"fill:none;stroke-width:1;stroke-linecap:butt;stroke-linejoin:miter;stroke:rgb(26.666667%,26.666667%,26.666667%);stroke-opacity:1;stroke-miterlimit:10;\" d=\"M 98 106.667969 L 150 193.332031 \"/>\n<path style=\"fill:none;stroke-width:1;stroke-linecap:butt;stroke-linejoin:miter;stroke:rgb(26.666667%,26.666667%,26.666667%);stroke-opacity:1;stroke-miterlimit:10;\" d=\"M 150 193.332031 L 124 280 \"/>\n<path style=\"fill:none;stroke-width:1;stroke-linecap:butt;stroke-linejoin:miter;stroke:rgb(26.666667%,26.666667%,26.666667%);stroke-opacity:1;stroke-miterlimit:10;\" d=\"M 150 193.332031 L 176 280 \"/>\n<path style=\"fill:none;stroke-width:1;stroke-linecap:butt;stroke-linejoin:miter;stroke:rgb(26.666667%,26.666667%,26.666667%);stroke-opacity:1;stroke-miterlimit:10;\" d=\"M 46 193.332031 L 72 280 \"/>\n<path style=\"fill:none;stroke-width:1;stroke-linecap:butt;stroke-linejoin:miter;stroke:rgb(26.666667%,26.666667%,26.666667%);stroke-opacity:1;stroke-miterlimit:10;\" d=\"M 176 20 L 254 106.667969 \"/>\n<path style=\"fill:none;stroke-width:1;stroke-linecap:butt;stroke-linejoin:miter;stroke:rgb(26.666667%,26.666667%,26.666667%);stroke-opacity:1;stroke-miterlimit:10;\" d=\"M 254 106.667969 L 254 193.332031 \"/>\n<path style=\"fill:none;stroke-width:1;stroke-linecap:butt;stroke-linejoin:miter;stroke:rgb(26.666667%,26.666667%,26.666667%);stroke-opacity:1;stroke-miterlimit:10;\" d=\"M 254 193.332031 L 228 280 \"/>\n<path style=\"fill:none;stroke-width:1;stroke-linecap:butt;stroke-linejoin:miter;stroke:rgb(26.666667%,26.666667%,26.666667%);stroke-opacity:1;stroke-miterlimit:10;\" d=\"M 254 193.332031 L 280 280 \"/>\n<path style=\"fill-rule:nonzero;fill:rgb(100%,0%,0%);fill-opacity:1;stroke-width:1;stroke-linecap:butt;stroke-linejoin:miter;stroke:rgb(0%,0%,0%);stroke-opacity:1;stroke-miterlimit:10;\" d=\"M 186 20 C 186 25.523438 181.523438 30 176 30 C 170.476563 30 166 25.523438 166 20 C 166 14.476563 170.476563 10 176 10 C 181.523438 10 186 14.476563 186 20 \"/>\n<path style=\"fill-rule:nonzero;fill:rgb(100%,0%,0%);fill-opacity:1;stroke-width:1;stroke-linecap:butt;stroke-linejoin:miter;stroke:rgb(0%,0%,0%);stroke-opacity:1;stroke-miterlimit:10;\" d=\"M 108 106.667969 C 108 112.191406 103.523438 116.667969 98 116.667969 C 92.476563 116.667969 88 112.191406 88 106.667969 C 88 101.144531 92.476563 96.667969 98 96.667969 C 103.523438 96.667969 108 101.144531 108 106.667969 \"/>\n<path style=\"fill-rule:nonzero;fill:rgb(100%,0%,0%);fill-opacity:1;stroke-width:1;stroke-linecap:butt;stroke-linejoin:miter;stroke:rgb(0%,0%,0%);stroke-opacity:1;stroke-miterlimit:10;\" d=\"M 56 193.332031 C 56 198.855469 51.523438 203.332031 46 203.332031 C 40.476563 203.332031 36 198.855469 36 193.332031 C 36 187.808594 40.476563 183.332031 46 183.332031 C 51.523438 183.332031 56 187.808594 56 193.332031 \"/>\n<path style=\"fill-rule:nonzero;fill:rgb(100%,0%,0%);fill-opacity:1;stroke-width:1;stroke-linecap:butt;stroke-linejoin:miter;stroke:rgb(0%,0%,0%);stroke-opacity:1;stroke-miterlimit:10;\" d=\"M 30 280 C 30 285.523438 25.523438 290 20 290 C 14.476563 290 10 285.523438 10 280 C 10 274.476563 14.476563 270 20 270 C 25.523438 270 30 274.476563 30 280 \"/>\n<path style=\"fill-rule:nonzero;fill:rgb(100%,0%,0%);fill-opacity:1;stroke-width:1;stroke-linecap:butt;stroke-linejoin:miter;stroke:rgb(0%,0%,0%);stroke-opacity:1;stroke-miterlimit:10;\" d=\"M 160 193.332031 C 160 198.855469 155.523438 203.332031 150 203.332031 C 144.476563 203.332031 140 198.855469 140 193.332031 C 140 187.808594 144.476563 183.332031 150 183.332031 C 155.523438 183.332031 160 187.808594 160 193.332031 \"/>\n<path style=\"fill-rule:nonzero;fill:rgb(100%,0%,0%);fill-opacity:1;stroke-width:1;stroke-linecap:butt;stroke-linejoin:miter;stroke:rgb(0%,0%,0%);stroke-opacity:1;stroke-miterlimit:10;\" d=\"M 134 280 C 134 285.523438 129.523438 290 124 290 C 118.476563 290 114 285.523438 114 280 C 114 274.476563 118.476563 270 124 270 C 129.523438 270 134 274.476563 134 280 \"/>\n<path style=\"fill-rule:nonzero;fill:rgb(100%,0%,0%);fill-opacity:1;stroke-width:1;stroke-linecap:butt;stroke-linejoin:miter;stroke:rgb(0%,0%,0%);stroke-opacity:1;stroke-miterlimit:10;\" d=\"M 186 280 C 186 285.523438 181.523438 290 176 290 C 170.476563 290 166 285.523438 166 280 C 166 274.476563 170.476563 270 176 270 C 181.523438 270 186 274.476563 186 280 \"/>\n<path style=\"fill-rule:nonzero;fill:rgb(100%,0%,0%);fill-opacity:1;stroke-width:1;stroke-linecap:butt;stroke-linejoin:miter;stroke:rgb(0%,0%,0%);stroke-opacity:1;stroke-miterlimit:10;\" d=\"M 82 280 C 82 285.523438 77.523438 290 72 290 C 66.476563 290 62 285.523438 62 280 C 62 274.476563 66.476563 270 72 270 C 77.523438 270 82 274.476563 82 280 \"/>\n<path style=\"fill-rule:nonzero;fill:rgb(100%,0%,0%);fill-opacity:1;stroke-width:1;stroke-linecap:butt;stroke-linejoin:miter;stroke:rgb(0%,0%,0%);stroke-opacity:1;stroke-miterlimit:10;\" d=\"M 264 106.667969 C 264 112.191406 259.523438 116.667969 254 116.667969 C 248.476563 116.667969 244 112.191406 244 106.667969 C 244 101.144531 248.476563 96.667969 254 96.667969 C 259.523438 96.667969 264 101.144531 264 106.667969 \"/>\n<path style=\"fill-rule:nonzero;fill:rgb(100%,0%,0%);fill-opacity:1;stroke-width:1;stroke-linecap:butt;stroke-linejoin:miter;stroke:rgb(0%,0%,0%);stroke-opacity:1;stroke-miterlimit:10;\" d=\"M 264 193.332031 C 264 198.855469 259.523438 203.332031 254 203.332031 C 248.476563 203.332031 244 198.855469 244 193.332031 C 244 187.808594 248.476563 183.332031 254 183.332031 C 259.523438 183.332031 264 187.808594 264 193.332031 \"/>\n<path style=\"fill-rule:nonzero;fill:rgb(100%,0%,0%);fill-opacity:1;stroke-width:1;stroke-linecap:butt;stroke-linejoin:miter;stroke:rgb(0%,0%,0%);stroke-opacity:1;stroke-miterlimit:10;\" d=\"M 238 280 C 238 285.523438 233.523438 290 228 290 C 222.476563 290 218 285.523438 218 280 C 218 274.476563 222.476563 270 228 270 C 233.523438 270 238 274.476563 238 280 \"/>\n<path style=\"fill-rule:nonzero;fill:rgb(100%,0%,0%);fill-opacity:1;stroke-width:1;stroke-linecap:butt;stroke-linejoin:miter;stroke:rgb(0%,0%,0%);stroke-opacity:1;stroke-miterlimit:10;\" d=\"M 290 280 C 290 285.523438 285.523438 290 280 290 C 274.476563 290 270 285.523438 270 280 C 270 274.476563 274.476563 270 280 270 C 285.523438 270 290 274.476563 290 280 \"/>\n<g style=\"fill:rgb(0%,0%,0%);fill-opacity:1;\">\n  <use xlink:href=\"#glyph0-1\" x=\"172.152344\" y=\"26.53125\"/>\n</g>\n<g style=\"fill:rgb(0%,0%,0%);fill-opacity:1;\">\n  <use xlink:href=\"#glyph0-2\" x=\"94.628906\" y=\"113.199219\"/>\n</g>\n<g style=\"fill:rgb(0%,0%,0%);fill-opacity:1;\">\n  <use xlink:href=\"#glyph0-3\" x=\"42.269531\" y=\"199.863281\"/>\n</g>\n<g style=\"fill:rgb(0%,0%,0%);fill-opacity:1;\">\n  <use xlink:href=\"#glyph0-4\" x=\"16.132813\" y=\"286.53125\"/>\n</g>\n<g style=\"fill:rgb(0%,0%,0%);fill-opacity:1;\">\n  <use xlink:href=\"#glyph0-5\" x=\"146.355469\" y=\"199.84375\"/>\n</g>\n<g style=\"fill:rgb(0%,0%,0%);fill-opacity:1;\">\n  <use xlink:href=\"#glyph0-6\" x=\"120.097656\" y=\"286.441406\"/>\n</g>\n<g style=\"fill:rgb(0%,0%,0%);fill-opacity:1;\">\n  <use xlink:href=\"#glyph0-7\" x=\"172.164063\" y=\"286.53125\"/>\n</g>\n<g style=\"fill:rgb(0%,0%,0%);fill-opacity:1;\">\n  <use xlink:href=\"#glyph0-8\" x=\"68.09375\" y=\"286.445313\"/>\n</g>\n<g style=\"fill:rgb(0%,0%,0%);fill-opacity:1;\">\n  <use xlink:href=\"#glyph0-9\" x=\"250.132813\" y=\"113.199219\"/>\n</g>\n<g style=\"fill:rgb(0%,0%,0%);fill-opacity:1;\">\n  <use xlink:href=\"#glyph0-10\" x=\"250.125\" y=\"199.863281\"/>\n</g>\n<g style=\"fill:rgb(0%,0%,0%);fill-opacity:1;\">\n  <use xlink:href=\"#glyph0-2\" x=\"219.785156\" y=\"286.53125\"/>\n  <use xlink:href=\"#glyph0-1\" x=\"227.571289\" y=\"286.53125\"/>\n</g>\n<g style=\"fill:rgb(0%,0%,0%);fill-opacity:1;\">\n  <use xlink:href=\"#glyph0-2\" x=\"272.738281\" y=\"286.53125\"/>\n  <use xlink:href=\"#glyph0-2\" x=\"280.524414\" y=\"286.53125\"/>\n</g>\n</g>\n</svg>\n"
     },
     "metadata": {
      "image/svg+xml": {
       "isolated": true
      }
     },
     "execution_count": 80
    }
   ],
   "source": [
    "from igraph import *\n",
    "\n",
    "# plot the tree graph\n",
    "tree = Graph(edges=EDGES)\n",
    "tree.vs['label'] = [v.index for v in tree.vs]\n",
    "plot(tree,layout=tree.layout('rt',root=[0]),bbox=(300,300))"
   ]
  },
  {
   "cell_type": "code",
   "execution_count": null,
   "metadata": {},
   "outputs": [],
   "source": []
  }
 ]
}