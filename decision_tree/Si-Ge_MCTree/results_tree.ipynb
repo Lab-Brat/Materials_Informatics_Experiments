{
 "metadata": {
  "language_info": {
   "codemirror_mode": {
    "name": "ipython",
    "version": 3
   },
   "file_extension": ".py",
   "mimetype": "text/x-python",
   "name": "python",
   "nbconvert_exporter": "python",
   "pygments_lexer": "ipython3",
   "version": "3.6.6-final"
  },
  "orig_nbformat": 2,
  "kernelspec": {
   "name": "python3",
   "display_name": "Python 3.6.6 64-bit",
   "metadata": {
    "interpreter": {
     "hash": "ea1d30b81493ad4e83832c30fd2d1afdd89257e8ee88b0c08169d2ce4111f838"
    }
   }
  }
 },
 "nbformat": 4,
 "nbformat_minor": 2,
 "cells": [
  {
   "cell_type": "code",
   "execution_count": null,
   "metadata": {},
   "outputs": [],
   "source": [
    "# test structures\n",
    "# test_d = {'d1': [0, 0, 0],\n",
    "#           'd2': [0, 1, 0],\n",
    "#           'd3': [0, 1, 1],\n",
    "#           'd4': [0, 0, 1],\n",
    "#           'd5': [1, 1, 0],\n",
    "#           'd6': [1, 1, 1]}\n",
    "# test_d"
   ]
  },
  {
   "cell_type": "code",
   "execution_count": 1,
   "metadata": {},
   "outputs": [],
   "source": [
    "# test structures\n",
    "test_d = {'d1': [0, 1, 0, 1, 1, 0],\n",
    "          'd2': [1, 0, 0, 0, 0, 1],\n",
    "          'd3': [1, 0, 1, 1, 1, 1],\n",
    "          'd4': [1, 1, 1, 1, 1, 0],\n",
    "          'd5': [0, 1, 0, 1, 1, 1],\n",
    "          'd6': [0, 0, 0, 1, 1, 1],\n",
    "          'd7': [0, 0, 1, 1, 0, 1],\n",
    "          'd8': [0, 0, 0, 1, 0, 1],\n",
    "          'd9': [0, 0, 1, 0, 0, 1],\n",
    "          'd10': [0, 0, 1, 1, 0, 0],\n",
    "          'd11': [1, 0, 1, 1, 1, 0]}\n",
    "          "
   ]
  },
  {
   "cell_type": "code",
   "execution_count": null,
   "metadata": {},
   "outputs": [],
   "source": [
    "# Load data\n",
    "# import numpy as np\n",
    "\n",
    "# data_d = {}\n",
    "# for i in range(1, 11):\n",
    "#     data_d[\"data{0}\".format(i)] = np.load('results/Si-Ge_20/results'+str(i)+'.npz')\n",
    "\n",
    "# # data_d['data1'].files\n",
    "# test = data_d['data1']['checked_candidates']\n",
    "\n",
    "# test_d = {}\n",
    "# C = 1\n",
    "# for i in test:\n",
    "#     test_d['d'+str(C)] = list(i)\n",
    "#     C+=1\n",
    "# test_d"
   ]
  },
  {
   "cell_type": "code",
   "execution_count": null,
   "metadata": {},
   "outputs": [],
   "source": []
  },
  {
   "cell_type": "code",
   "execution_count": 2,
   "metadata": {},
   "outputs": [],
   "source": [
    "# Create a dictionary containing similarity score of a selected structure\n",
    "def similarityDict(test_d):\n",
    "    compare_list = []\n",
    "    D = {}\n",
    "    D_count = 1\n",
    "    d_count = 0\n",
    "\n",
    "    for i in range(1, len(test_d)):\n",
    "        temp = []\n",
    "        sim_d = {}\n",
    "        \n",
    "        # select two adjacent structures at the top\n",
    "        up = test_d['d'+str(i)]\n",
    "        down = test_d['d'+str(i+1)]\n",
    "\n",
    "        # create the list for comparison. After each iteration additional\n",
    "        # structure will be added, 'down' coordinate will be compared with\n",
    "        # all the scructures in this list.\n",
    "        compare_list.append(up)\n",
    "\n",
    "        #compute similarity score\n",
    "        for k in compare_list:\n",
    "            up = k\n",
    "            sim_score = 0\n",
    "            for j in range(len(test_d['d1'])):\n",
    "                if down[j] == up[j]:\n",
    "                    sim_score += 1\n",
    "                else:\n",
    "                    break\n",
    "            # dictionary containing a structure \n",
    "            # and it's similarity score\n",
    "            sim_d[str(k)+str(down)] = sim_score\n",
    "            d_count += 1\n",
    "        \n",
    "        # dictionary containing all scores produced \n",
    "        # after each iteration\n",
    "        D[str(D_count)] = sim_d\n",
    "        D_count += 1\n",
    "\n",
    "    return D"
   ]
  },
  {
   "cell_type": "code",
   "execution_count": 3,
   "metadata": {},
   "outputs": [],
   "source": [
    "# function to return key for any value \n",
    "def get_key(sim_L):\n",
    "    most_alike = []\n",
    "\n",
    "    # Find the maximum similarity values for all structures\n",
    "    maxes_ind = []\n",
    "    for i in sim_D.values():\n",
    "        maxes_ind.append(max(i.values()))\n",
    "\n",
    "    for j in range(len(sim_L)):\n",
    "        for key in sim_L[j]:\n",
    "            if maxes_ind[j] == sim_L[j][key]:\n",
    "                most_alike.append(key)\n",
    "                break\n",
    "        \n",
    "    return most_alike    "
   ]
  },
  {
   "cell_type": "code",
   "execution_count": null,
   "metadata": {},
   "outputs": [],
   "source": []
  },
  {
   "cell_type": "code",
   "execution_count": 4,
   "metadata": {},
   "outputs": [],
   "source": [
    "# function to convert strings to lists\n",
    "def ret_list(maxes_s):\n",
    "    temp = []\n",
    "    ML1 = []\n",
    "    ML2 = []\n",
    "\n",
    "    for i in range(len(maxes_s)):\n",
    "        for l in maxes_s[i]:\n",
    "            if len(temp) < (len(test_d['d1'])): \n",
    "                if l=='0' or l=='1':\n",
    "                    temp.append(int(l))\n",
    "        ML1.append(temp)\n",
    "        temp = []\n",
    "    \n",
    "    for i in range(len(maxes_s)):\n",
    "        for l in range(len(maxes_s[0])//2, len(maxes_s[0])):\n",
    "            if len(temp) < (len(test_d['d1'])): \n",
    "                if maxes_s[i][l] =='0' or maxes_s[i][l] =='1':\n",
    "                    temp.append(int(maxes_s[i][l]))\n",
    "        ML2.append(temp)\n",
    "        temp = []\n",
    "\n",
    "    ML = []\n",
    "    for j in range(len(maxes_s)):\n",
    "        ML.append((ML1[j], ML2[j]))\n",
    "\n",
    "    return ML"
   ]
  },
  {
   "cell_type": "code",
   "execution_count": null,
   "metadata": {},
   "outputs": [],
   "source": []
  },
  {
   "cell_type": "code",
   "execution_count": 5,
   "metadata": {},
   "outputs": [
    {
     "output_type": "execute_result",
     "data": {
      "text/plain": [
       "[([0, 1, 0, 1, 1, 0], [1, 0, 0, 0, 0, 1]),\n",
       " ([1, 0, 0, 0, 0, 1], [1, 0, 1, 1, 1, 1]),\n",
       " ([1, 0, 0, 0, 0, 1], [1, 1, 1, 1, 1, 0]),\n",
       " ([0, 1, 0, 1, 1, 0], [0, 1, 0, 1, 1, 1]),\n",
       " ([0, 1, 0, 1, 1, 0], [0, 0, 0, 1, 1, 1]),\n",
       " ([0, 0, 0, 1, 1, 1], [0, 0, 1, 1, 0, 1]),\n",
       " ([0, 0, 0, 1, 1, 1], [0, 0, 0, 1, 0, 1]),\n",
       " ([0, 0, 1, 1, 0, 1], [0, 0, 1, 0, 0, 1]),\n",
       " ([0, 0, 1, 1, 0, 1], [0, 0, 1, 1, 0, 0]),\n",
       " ([1, 0, 1, 1, 1, 1], [1, 0, 1, 1, 1, 0])]"
      ]
     },
     "metadata": {},
     "execution_count": 5
    }
   ],
   "source": [
    "# Dictionary containing similarity values and structures\n",
    "sim_D = similarityDict(test_d)\n",
    "\n",
    "# Un-matryoshka the similarity dictionary, \n",
    "# and put everything into a list (easier to index)\n",
    "sim_L = []\n",
    "for i in range(1, len(sim_D)+1):\n",
    "    sim_L.append(sim_D[str(i)])\n",
    "\n",
    "# get the structure according to it's max similarity value\n",
    "maxes_s = get_key(sim_L)\n",
    "\n",
    "# convert those structures into lists (they were str before)\n",
    "MAX = ret_list(maxes_s)\n",
    "MAX"
   ]
  },
  {
   "cell_type": "code",
   "execution_count": null,
   "metadata": {},
   "outputs": [],
   "source": []
  },
  {
   "cell_type": "code",
   "execution_count": 8,
   "metadata": {},
   "outputs": [
    {
     "output_type": "execute_result",
     "data": {
      "text/plain": [
       "{'i1': [1, 2, 3, 4, 5, 6],\n",
       " 'i2': [7, 8, 9, 10, 11, 12],\n",
       " 'i3': [7, 8, 13, 14, 15, 16],\n",
       " 'i4': [7, 17, 18, 19, 20, 21],\n",
       " 'i5': [1, 2, 3, 4, 5, 22],\n",
       " 'i6': [1, 23, 24, 25, 26, 27],\n",
       " 'i7': [1, 23, 28, 29, 30, 31],\n",
       " 'i8': [1, 23, 24, 25, 32, 33],\n",
       " 'i9': [1, 23, 28, 34, 35, 36],\n",
       " 'i10': [1, 23, 28, 29, 30, 37],\n",
       " 'i11': [7, 8, 13, 14, 15, 38]}"
      ]
     },
     "metadata": {},
     "execution_count": 8
    }
   ],
   "source": [
    "# Set values for verticies\n",
    "def Verticies(test_d, MAX):\n",
    "    # initialize the vertecies of first structure\n",
    "    init_v = list(range(1, len(MAX[0][0])+1))\n",
    "    ind_d = {'i1': init_v}\n",
    "    same_path = True \n",
    "    count = len(MAX[0][0])\n",
    "\n",
    "    # label verticies according to structures in MAX\n",
    "    for i in range(0, len(MAX)):\n",
    "        temp = []\n",
    "        left = MAX[i][0]\n",
    "        right = MAX[i][1]\n",
    "\n",
    "        for j in range(len(left)):\n",
    "            if right[j] == left[j] and same_path==True:\n",
    "                for k in range(len(MAX)):\n",
    "                    if left == test_d['d1']:\n",
    "                        IND = 0\n",
    "                    elif left == MAX[k][1]:\n",
    "                        # print(\"True\")\n",
    "                        IND = MAX.index(MAX[k]) + 1\n",
    "                        break\n",
    "                # IND = MAX.index((left, HALF))\n",
    "                temp.append(ind_d['i'+str(IND+1)][j])\n",
    "            else:\n",
    "                count += 1\n",
    "                temp.append(count)\n",
    "                same_path = False\n",
    "            \n",
    "        ind_d['i'+str(i+2)] = temp\n",
    "        same_path=True\n",
    "\n",
    "    return ind_d\n",
    "\n",
    "vertecies_val = Verticies(test_d, MAX)\n",
    "vertecies_val"
   ]
  },
  {
   "cell_type": "code",
   "execution_count": null,
   "metadata": {},
   "outputs": [],
   "source": []
  },
  {
   "cell_type": "code",
   "execution_count": null,
   "metadata": {},
   "outputs": [],
   "source": [
    "# Compute edges from vertecies and path infromation\n",
    "def Edges(vertecies_val):\n",
    "    root = 0\n",
    "    count = 0\n",
    "    EDGES = []\n",
    "    first = []\n",
    "\n",
    "    for k in vertecies_val.values():\n",
    "        if k[0] not in first:\n",
    "            first.append(k[0])\n",
    "\n",
    "    for l in first:\n",
    "        EDGES.append((root,l))\n",
    "\n",
    "\n",
    "\n",
    "    for j in vertecies_val.values():\n",
    "        for i in range(len(j)-1):\n",
    "            if (j[i], j[i+1]) not in EDGES:\n",
    "                EDGES.append((j[i], j[i+1]))\n",
    "                    \n",
    "    return EDGES\n",
    "\n",
    "EDGES = Edges(vertecies_val)\n",
    "# EDGES"
   ]
  },
  {
   "cell_type": "code",
   "execution_count": null,
   "metadata": {},
   "outputs": [],
   "source": []
  },
  {
   "cell_type": "code",
   "execution_count": null,
   "metadata": {},
   "outputs": [],
   "source": [
    "from igraph import *\n",
    "\n",
    "# plot the tree graph\n",
    "tree = Graph(edges=EDGES)\n",
    "tree.vs['label'] = [v.index for v in tree.vs]\n",
    "plot(tree,layout=tree.layout('rt',root=[0]),bbox=(400,450))"
   ]
  },
  {
   "cell_type": "code",
   "execution_count": null,
   "metadata": {},
   "outputs": [],
   "source": []
  }
 ]
}