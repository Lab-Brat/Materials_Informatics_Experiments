{
 "metadata": {
  "language_info": {
   "codemirror_mode": {
    "name": "ipython",
    "version": 3
   },
   "file_extension": ".py",
   "mimetype": "text/x-python",
   "name": "python",
   "nbconvert_exporter": "python",
   "pygments_lexer": "ipython3",
   "version": "3.8.6-final"
  },
  "orig_nbformat": 2,
  "kernelspec": {
   "name": "Python 3.8.6 64-bit",
   "display_name": "Python 3.8.6 64-bit",
   "metadata": {
    "interpreter": {
     "hash": "06389d2601312ad42d345986d536958551643a1448f9b4b2cf64e6539f194870"
    }
   }
  }
 },
 "nbformat": 4,
 "nbformat_minor": 2,
 "cells": [
  {
   "cell_type": "code",
   "execution_count": 1,
   "metadata": {},
   "outputs": [],
   "source": [
    "import numpy as np\n",
    "import pandas as pd\n",
    "from numpy import log2 as log\n",
    "\n",
    "# to avoid 0 in the denominator\n",
    "eps = np.finfo(float).eps"
   ]
  },
  {
   "cell_type": "code",
   "execution_count": 2,
   "metadata": {},
   "outputs": [],
   "source": [
    "# WORKFLOW OF ID3\n",
    "\n",
    "# 1.compute the entropy for data-set\n",
    "# 2.for every attribute/feature:\n",
    "#        1.calculate entropy for all categorical values\n",
    "#        2.take average information entropy for the current attribute\n",
    "#        3.calculate gain for the current attribute\n",
    "# 3. pick the highest gain attribute.\n",
    "# 4. Repeat until we get the tree we desired"
   ]
  },
  {
   "cell_type": "code",
   "execution_count": null,
   "metadata": {},
   "outputs": [],
   "source": []
  },
  {
   "cell_type": "code",
   "execution_count": 3,
   "metadata": {},
   "outputs": [],
   "source": [
    "# 3 weather options: Sunny, Cloudy, Rainy\n",
    "weat  = ['sun', 'sun', 'cloud', 'rain', 'rain', 'rain', 'cloud', \n",
    "         'sun', 'sun', 'rain', 'sun', 'cloud', 'cloud', 'rain']\n",
    "\n",
    "# 3 temperature options: Hot, Medium, Cold\n",
    "temp  = ['hot', 'hot', 'hot', 'med', 'cold', 'cold', 'cold', \n",
    "         'med', 'cold', 'med', 'med', 'med', 'hot', 'med']\n",
    "\n",
    "# 2 humidity options: high, normal\n",
    "hum   = ['high', 'high', 'high', 'high', 'norm', 'norm', 'norm', \n",
    "         'high', 'norm', 'norm', 'norm', 'high', 'norm', 'high']\n",
    "\n",
    "# 2 wind parameters: strong, weak\n",
    "wind  = ['weak', 'strong', 'weak', 'weak', 'weak', 'strong', 'strong', \n",
    "         'weak', 'weak', 'weak', 'strong', 'strong', 'weak', 'strong']\n",
    "\n",
    "# 2 targets: activity is still on (active), canceled\n",
    "activ = ['cancel', 'cancel', 'active', 'active', 'active', 'cancel', 'active', \n",
    "         'cancel', 'active', 'active', 'active', 'active', 'active', 'cancel']"
   ]
  },
  {
   "cell_type": "code",
   "execution_count": 4,
   "metadata": {},
   "outputs": [
    {
     "output_type": "execute_result",
     "data": {
      "text/plain": [
       "   weather temperature humidity    wind activity\n",
       "0      sun         hot     high    weak   cancel\n",
       "1      sun         hot     high  strong   cancel\n",
       "2    cloud         hot     high    weak   active\n",
       "3     rain         med     high    weak   active\n",
       "4     rain        cold     norm    weak   active\n",
       "5     rain        cold     norm  strong   cancel\n",
       "6    cloud        cold     norm  strong   active\n",
       "7      sun         med     high    weak   cancel\n",
       "8      sun        cold     norm    weak   active\n",
       "9     rain         med     norm    weak   active\n",
       "10     sun         med     norm  strong   active\n",
       "11   cloud         med     high  strong   active\n",
       "12   cloud         hot     norm    weak   active\n",
       "13    rain         med     high  strong   cancel"
      ],
      "text/html": "<div>\n<style scoped>\n    .dataframe tbody tr th:only-of-type {\n        vertical-align: middle;\n    }\n\n    .dataframe tbody tr th {\n        vertical-align: top;\n    }\n\n    .dataframe thead th {\n        text-align: right;\n    }\n</style>\n<table border=\"1\" class=\"dataframe\">\n  <thead>\n    <tr style=\"text-align: right;\">\n      <th></th>\n      <th>weather</th>\n      <th>temperature</th>\n      <th>humidity</th>\n      <th>wind</th>\n      <th>activity</th>\n    </tr>\n  </thead>\n  <tbody>\n    <tr>\n      <th>0</th>\n      <td>sun</td>\n      <td>hot</td>\n      <td>high</td>\n      <td>weak</td>\n      <td>cancel</td>\n    </tr>\n    <tr>\n      <th>1</th>\n      <td>sun</td>\n      <td>hot</td>\n      <td>high</td>\n      <td>strong</td>\n      <td>cancel</td>\n    </tr>\n    <tr>\n      <th>2</th>\n      <td>cloud</td>\n      <td>hot</td>\n      <td>high</td>\n      <td>weak</td>\n      <td>active</td>\n    </tr>\n    <tr>\n      <th>3</th>\n      <td>rain</td>\n      <td>med</td>\n      <td>high</td>\n      <td>weak</td>\n      <td>active</td>\n    </tr>\n    <tr>\n      <th>4</th>\n      <td>rain</td>\n      <td>cold</td>\n      <td>norm</td>\n      <td>weak</td>\n      <td>active</td>\n    </tr>\n    <tr>\n      <th>5</th>\n      <td>rain</td>\n      <td>cold</td>\n      <td>norm</td>\n      <td>strong</td>\n      <td>cancel</td>\n    </tr>\n    <tr>\n      <th>6</th>\n      <td>cloud</td>\n      <td>cold</td>\n      <td>norm</td>\n      <td>strong</td>\n      <td>active</td>\n    </tr>\n    <tr>\n      <th>7</th>\n      <td>sun</td>\n      <td>med</td>\n      <td>high</td>\n      <td>weak</td>\n      <td>cancel</td>\n    </tr>\n    <tr>\n      <th>8</th>\n      <td>sun</td>\n      <td>cold</td>\n      <td>norm</td>\n      <td>weak</td>\n      <td>active</td>\n    </tr>\n    <tr>\n      <th>9</th>\n      <td>rain</td>\n      <td>med</td>\n      <td>norm</td>\n      <td>weak</td>\n      <td>active</td>\n    </tr>\n    <tr>\n      <th>10</th>\n      <td>sun</td>\n      <td>med</td>\n      <td>norm</td>\n      <td>strong</td>\n      <td>active</td>\n    </tr>\n    <tr>\n      <th>11</th>\n      <td>cloud</td>\n      <td>med</td>\n      <td>high</td>\n      <td>strong</td>\n      <td>active</td>\n    </tr>\n    <tr>\n      <th>12</th>\n      <td>cloud</td>\n      <td>hot</td>\n      <td>norm</td>\n      <td>weak</td>\n      <td>active</td>\n    </tr>\n    <tr>\n      <th>13</th>\n      <td>rain</td>\n      <td>med</td>\n      <td>high</td>\n      <td>strong</td>\n      <td>cancel</td>\n    </tr>\n  </tbody>\n</table>\n</div>"
     },
     "metadata": {},
     "execution_count": 4
    }
   ],
   "source": [
    "# merging all attributes into one pandas dataframe\n",
    "dataset = {'weather': weat, 'temperature': temp, 'humidity': hum, 'wind': wind, 'activity': activ}\n",
    "df = pd.DataFrame(dataset, columns=['weather', 'temperature', 'humidity', 'wind', 'activity'])\n",
    "df"
   ]
  },
  {
   "cell_type": "code",
   "execution_count": 5,
   "metadata": {},
   "outputs": [],
   "source": [
    "global Class\n",
    "Class = df.keys()[-1]"
   ]
  },
  {
   "cell_type": "code",
   "execution_count": null,
   "metadata": {},
   "outputs": [],
   "source": []
  },
  {
   "cell_type": "code",
   "execution_count": 6,
   "metadata": {},
   "outputs": [
    {
     "output_type": "stream",
     "name": "stdout",
     "text": [
      "Entropy for the whole dataset is:  0.9403\n"
     ]
    }
   ],
   "source": [
    "#------------------Compute Entropy Of Whole Dataset ------------------#\n",
    "\n",
    "def Entropy(df):\n",
    "    entropy = 0\n",
    "    values = df[Class].unique() #cancel, active\n",
    "\n",
    "    for v in values:\n",
    "        fraction = df.activity.value_counts()[v]/len(df.activity)  # 9/14, 5/14\n",
    "        entropy += -fraction*np.log2(fraction) # -( 9/14log2(9/14) + 5/14(log2(5/14))\n",
    "    return entropy\n",
    "\n",
    "\n",
    "entropy = Entropy(df)\n",
    "print('Entropy for the whole dataset is: {0: .4f}'.format(entropy))"
   ]
  },
  {
   "cell_type": "code",
   "execution_count": null,
   "metadata": {},
   "outputs": [],
   "source": []
  },
  {
   "cell_type": "code",
   "execution_count": 7,
   "metadata": {},
   "outputs": [
    {
     "output_type": "stream",
     "name": "stdout",
     "text": [
      "Entropies for all the columns are:\n"
     ]
    },
    {
     "output_type": "execute_result",
     "data": {
      "text/plain": [
       "{'weather': 0.6935361388961914,\n",
       " 'temperature': 0.9110633930116756,\n",
       " 'humidity': 0.7884504573082889,\n",
       " 'wind': 0.892158928262361}"
      ]
     },
     "metadata": {},
     "execution_count": 7
    }
   ],
   "source": [
    "#------------------Compute Entropy Of Attributes------------------#\n",
    "\n",
    "def Entropy_Att(df, attribute):\n",
    "    target_variables = df.activity.unique()   #cancel, active\n",
    "    variables        = df[attribute].unique() #unique target of an attribute\n",
    "\n",
    "    entropy_attribute = 0\n",
    "    for variable in variables:\n",
    "        entropy_each_feature = 0\n",
    "        for target_variable in target_variables:\n",
    "            num = len(df[attribute][df[attribute]==variable][df.activity ==target_variable]) #numerator\n",
    "            den = len(df[attribute][df[attribute]==variable])  #denominator\n",
    "            fraction = num/(den+eps)  #pi\n",
    "            entropy_each_feature += -fraction*log(fraction+eps) #This calculates entropy for one feature like 'Sweet'\n",
    "        fraction2 = den/len(df)\n",
    "        entropy_attribute += -fraction2*entropy_each_feature   #Sums up all the entropy ETaste\n",
    "\n",
    "    return(abs(entropy_attribute))\n",
    "\n",
    "a_entropy = {i: Entropy_Att(df, i) for i in df.columns[:-1]} #calcuate entropy for all columns except the last one\n",
    "print('Entropies for all the columns are:')\n",
    "a_entropy"
   ]
  },
  {
   "cell_type": "code",
   "execution_count": null,
   "metadata": {},
   "outputs": [],
   "source": []
  },
  {
   "cell_type": "code",
   "execution_count": 8,
   "metadata": {},
   "outputs": [
    {
     "output_type": "execute_result",
     "data": {
      "text/plain": [
       "'weather'"
      ]
     },
     "metadata": {},
     "execution_count": 8
    }
   ],
   "source": [
    "def find_winner(df):\n",
    "    Entropy_att = []\n",
    "    IG = []\n",
    "    for key in df.keys()[:-1]:\n",
    "        IG.append(Entropy(df)-Entropy_Att(df,key))\n",
    "    return df.keys()[:-1][np.argmax(IG)]\n",
    "\n",
    "find_winner(df)"
   ]
  },
  {
   "cell_type": "code",
   "execution_count": null,
   "metadata": {},
   "outputs": [],
   "source": []
  },
  {
   "cell_type": "code",
   "execution_count": 9,
   "metadata": {},
   "outputs": [],
   "source": [
    "def get_subtable(df, node, value):\n",
    "  return df[df[node] == value].reset_index(drop=True)\n",
    "\n",
    "# for v in attValue:\n",
    "#     subtable = get_subtable(df, node, v)\n",
    "#     print(subtable)"
   ]
  },
  {
   "cell_type": "code",
   "execution_count": null,
   "metadata": {},
   "outputs": [],
   "source": []
  },
  {
   "cell_type": "code",
   "execution_count": 10,
   "metadata": {},
   "outputs": [],
   "source": [
    "def buildTree(df,tree=None): \n",
    "    #Get attribute with maximum information gain\n",
    "    node = find_winner(df)\n",
    "    \n",
    "    #Get distinct value of that attribute e.g Salary is node and Low,Med and High are values\n",
    "    attValue = np.unique(df[node])\n",
    "    \n",
    "    #Create an empty dictionary to create tree    \n",
    "    if tree is None:                    \n",
    "        tree={}\n",
    "        tree[node] = {}\n",
    "    \n",
    "    #We make loop to construct a tree by calling this function recursively. \n",
    "    #In this we check if the subset is pure and stops if it is pure. \n",
    "\n",
    "    for value in attValue:\n",
    "        \n",
    "        subtable = get_subtable(df,node,value)\n",
    "        clValue,counts = np.unique(subtable[Class],return_counts=True)                        \n",
    "        \n",
    "        if len(counts)==1:#Checking purity of subset\n",
    "            tree[node][value] = clValue[0]                                                    \n",
    "        else:        \n",
    "            tree[node][value] = buildTree(subtable) #Calling the function recursively \n",
    "                   \n",
    "    return tree"
   ]
  },
  {
   "cell_type": "code",
   "execution_count": null,
   "metadata": {},
   "outputs": [],
   "source": []
  },
  {
   "cell_type": "code",
   "execution_count": 11,
   "metadata": {},
   "outputs": [
    {
     "output_type": "stream",
     "name": "stdout",
     "text": [
      "{'weather': {'cloud': 'active',\n             'rain': {'wind': {'strong': 'cancel', 'weak': 'active'}},\n             'sun': {'humidity': {'high': 'cancel', 'norm': 'active'}}}}\n"
     ]
    }
   ],
   "source": [
    "t = buildTree(df)\n",
    "\n",
    "import pprint\n",
    "pprint.pprint(t)"
   ]
  },
  {
   "cell_type": "code",
   "execution_count": null,
   "metadata": {},
   "outputs": [],
   "source": []
  },
  {
   "cell_type": "code",
   "execution_count": null,
   "metadata": {},
   "outputs": [],
   "source": []
  }
 ]
}